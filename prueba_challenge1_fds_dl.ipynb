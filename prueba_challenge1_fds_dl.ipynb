{
 "cells": [
  {
   "cell_type": "markdown",
   "id": "93439c1e",
   "metadata": {},
   "source": [
    "### Autor: Fernando Ordinola"
   ]
  },
  {
   "cell_type": "markdown",
   "id": "c7cf56bc",
   "metadata": {},
   "source": [
    "## Preliminares"
   ]
  },
  {
   "cell_type": "markdown",
   "id": "f81adf3e",
   "metadata": {},
   "source": [
    "> __Formulación del problema__:  La data disponible cuenta con diversas y múltiples variables relacionadas con atributos que pueden determinar, en cierta medida, la desigualdad de ingreso y la pobreza extrema. No se sabe cuáles pueden explicar en mayor o menor medida nuestra variable de interés, tampoco se cuenta con un modelo que pueda predecir con un nivel óptimo de significancia para ejecutar soluciones no reactivas al problema socioeconómico.\n",
    ">\n",
    "> __Objetivos__: El objetivo principal de este proyecto es desarrollar un modelo predictivo capaz de detectar la probabilidad de que un individuo reciba un salario por debajo o por encima de los 50,000 dólares a partir de variables sociodemográficas.\n",
    ">\n",
    ">\n",
    ">__Objetivos especificos:__\n",
    ">> - Recodificar variables.\n",
    ">> - Procesar la data disponible para usarla en el entrenamiento de un algoritmo de regresión.\n",
    ">> - Dividir el dataset para entrenamiento\n",
    ">\n",
    ">\n",
    "> __Implementación del modelo__: Se usará un modelo de regresión logística, ya que deseamos clasificar a los individuos en dos categorías: aquellos que tienen un salario por encima o por debajo de los 50,000 dólares. No se usó un modelo de regresión lineal, ya que este no es adecuado para predecir variables binarias. En lugar de eso, se busca predecir la probabilidad de un evento.\n",
    "\n",
    "> __Métricas de desempeño__\n",
    ">> - Exactitud\n",
    ">> - Precisión\n",
    ">> - Recall\n",
    ">> - F1 Score\n",
    ">> - ROC curve, AUC "
   ]
  },
  {
   "cell_type": "markdown",
   "id": "f01bd756",
   "metadata": {},
   "source": [
    "## Aspectos Computacionales"
   ]
  },
  {
   "cell_type": "markdown",
   "id": "970a17e7",
   "metadata": {},
   "source": [
    "> Librerías a utilizar\n",
    "> - pandas\n",
    "> - numpy\n",
    "> - matplotlib\n",
    "> - statsmodel\n",
    "> - seaborn\n",
    "> - warnings\n",
    "> - sklearn\n",
    "\n",
    "> Módulo propio con funciones utilitarias: __functions.py__"
   ]
  },
  {
   "cell_type": "markdown",
   "id": "d2636267",
   "metadata": {},
   "source": [
    "# Descripción"
   ]
  },
  {
   "cell_type": "code",
   "execution_count": 1,
   "id": "9150d6d1",
   "metadata": {},
   "outputs": [],
   "source": [
    "import pandas as pd\n",
    "import numpy as np\n",
    "import seaborn as sns\n",
    "import matplotlib.pyplot as plt\n",
    "import functions as pyfunc\n",
    "import warnings\n",
    "import statsmodels.formula.api as smf\n",
    "import functions as pyfunc\n",
    "\n",
    "warnings.filterwarnings(action=\"ignore\")\n",
    "plt.style.use('seaborn')\n",
    "\n",
    "from sklearn.linear_model import LogisticRegression\n",
    "from sklearn.model_selection import train_test_split\n",
    "\n",
    "from sklearn.metrics import classification_report\n",
    "from sklearn.metrics import roc_curve\n",
    "from sklearn.metrics import confusion_matrix\n",
    "from sklearn.metrics import accuracy_score\n",
    "from sklearn.metrics import precision_score, recall_score"
   ]
  },
  {
   "cell_type": "code",
   "execution_count": 2,
   "id": "143d8b2e",
   "metadata": {},
   "outputs": [],
   "source": [
    "df = pd.read_csv('income-db.csv').drop('fnlwgt', axis=1)"
   ]
  },
  {
   "cell_type": "code",
   "execution_count": 3,
   "id": "1ce67e27",
   "metadata": {
    "scrolled": false
   },
   "outputs": [
    {
     "data": {
      "text/html": [
       "<div>\n",
       "<style scoped>\n",
       "    .dataframe tbody tr th:only-of-type {\n",
       "        vertical-align: middle;\n",
       "    }\n",
       "\n",
       "    .dataframe tbody tr th {\n",
       "        vertical-align: top;\n",
       "    }\n",
       "\n",
       "    .dataframe thead th {\n",
       "        text-align: right;\n",
       "    }\n",
       "</style>\n",
       "<table border=\"1\" class=\"dataframe\">\n",
       "  <thead>\n",
       "    <tr style=\"text-align: right;\">\n",
       "      <th></th>\n",
       "      <th>age</th>\n",
       "      <th>workclass</th>\n",
       "      <th>education</th>\n",
       "      <th>educational-num</th>\n",
       "      <th>marital-status</th>\n",
       "      <th>occupation</th>\n",
       "      <th>relationship</th>\n",
       "      <th>race</th>\n",
       "      <th>gender</th>\n",
       "      <th>capital-gain</th>\n",
       "      <th>capital-loss</th>\n",
       "      <th>hours-per-week</th>\n",
       "      <th>native-country</th>\n",
       "      <th>income</th>\n",
       "    </tr>\n",
       "  </thead>\n",
       "  <tbody>\n",
       "    <tr>\n",
       "      <th>0</th>\n",
       "      <td>25</td>\n",
       "      <td>Private</td>\n",
       "      <td>11th</td>\n",
       "      <td>7</td>\n",
       "      <td>Never-married</td>\n",
       "      <td>Machine-op-inspct</td>\n",
       "      <td>Own-child</td>\n",
       "      <td>Black</td>\n",
       "      <td>Male</td>\n",
       "      <td>0</td>\n",
       "      <td>0</td>\n",
       "      <td>40</td>\n",
       "      <td>United-States</td>\n",
       "      <td>&lt;=50K</td>\n",
       "    </tr>\n",
       "    <tr>\n",
       "      <th>1</th>\n",
       "      <td>38</td>\n",
       "      <td>Private</td>\n",
       "      <td>HS-grad</td>\n",
       "      <td>9</td>\n",
       "      <td>Married-civ-spouse</td>\n",
       "      <td>Farming-fishing</td>\n",
       "      <td>Husband</td>\n",
       "      <td>White</td>\n",
       "      <td>Male</td>\n",
       "      <td>0</td>\n",
       "      <td>0</td>\n",
       "      <td>50</td>\n",
       "      <td>United-States</td>\n",
       "      <td>&lt;=50K</td>\n",
       "    </tr>\n",
       "    <tr>\n",
       "      <th>2</th>\n",
       "      <td>28</td>\n",
       "      <td>Local-gov</td>\n",
       "      <td>Assoc-acdm</td>\n",
       "      <td>12</td>\n",
       "      <td>Married-civ-spouse</td>\n",
       "      <td>Protective-serv</td>\n",
       "      <td>Husband</td>\n",
       "      <td>White</td>\n",
       "      <td>Male</td>\n",
       "      <td>0</td>\n",
       "      <td>0</td>\n",
       "      <td>40</td>\n",
       "      <td>United-States</td>\n",
       "      <td>&gt;50K</td>\n",
       "    </tr>\n",
       "    <tr>\n",
       "      <th>3</th>\n",
       "      <td>44</td>\n",
       "      <td>Private</td>\n",
       "      <td>Some-college</td>\n",
       "      <td>10</td>\n",
       "      <td>Married-civ-spouse</td>\n",
       "      <td>Machine-op-inspct</td>\n",
       "      <td>Husband</td>\n",
       "      <td>Black</td>\n",
       "      <td>Male</td>\n",
       "      <td>7688</td>\n",
       "      <td>0</td>\n",
       "      <td>40</td>\n",
       "      <td>United-States</td>\n",
       "      <td>&gt;50K</td>\n",
       "    </tr>\n",
       "    <tr>\n",
       "      <th>4</th>\n",
       "      <td>18</td>\n",
       "      <td>?</td>\n",
       "      <td>Some-college</td>\n",
       "      <td>10</td>\n",
       "      <td>Never-married</td>\n",
       "      <td>?</td>\n",
       "      <td>Own-child</td>\n",
       "      <td>White</td>\n",
       "      <td>Female</td>\n",
       "      <td>0</td>\n",
       "      <td>0</td>\n",
       "      <td>30</td>\n",
       "      <td>United-States</td>\n",
       "      <td>&lt;=50K</td>\n",
       "    </tr>\n",
       "    <tr>\n",
       "      <th>...</th>\n",
       "      <td>...</td>\n",
       "      <td>...</td>\n",
       "      <td>...</td>\n",
       "      <td>...</td>\n",
       "      <td>...</td>\n",
       "      <td>...</td>\n",
       "      <td>...</td>\n",
       "      <td>...</td>\n",
       "      <td>...</td>\n",
       "      <td>...</td>\n",
       "      <td>...</td>\n",
       "      <td>...</td>\n",
       "      <td>...</td>\n",
       "      <td>...</td>\n",
       "    </tr>\n",
       "    <tr>\n",
       "      <th>48837</th>\n",
       "      <td>27</td>\n",
       "      <td>Private</td>\n",
       "      <td>Assoc-acdm</td>\n",
       "      <td>12</td>\n",
       "      <td>Married-civ-spouse</td>\n",
       "      <td>Tech-support</td>\n",
       "      <td>Wife</td>\n",
       "      <td>White</td>\n",
       "      <td>Female</td>\n",
       "      <td>0</td>\n",
       "      <td>0</td>\n",
       "      <td>38</td>\n",
       "      <td>United-States</td>\n",
       "      <td>&lt;=50K</td>\n",
       "    </tr>\n",
       "    <tr>\n",
       "      <th>48838</th>\n",
       "      <td>40</td>\n",
       "      <td>Private</td>\n",
       "      <td>HS-grad</td>\n",
       "      <td>9</td>\n",
       "      <td>Married-civ-spouse</td>\n",
       "      <td>Machine-op-inspct</td>\n",
       "      <td>Husband</td>\n",
       "      <td>White</td>\n",
       "      <td>Male</td>\n",
       "      <td>0</td>\n",
       "      <td>0</td>\n",
       "      <td>40</td>\n",
       "      <td>United-States</td>\n",
       "      <td>&gt;50K</td>\n",
       "    </tr>\n",
       "    <tr>\n",
       "      <th>48839</th>\n",
       "      <td>58</td>\n",
       "      <td>Private</td>\n",
       "      <td>HS-grad</td>\n",
       "      <td>9</td>\n",
       "      <td>Widowed</td>\n",
       "      <td>Adm-clerical</td>\n",
       "      <td>Unmarried</td>\n",
       "      <td>White</td>\n",
       "      <td>Female</td>\n",
       "      <td>0</td>\n",
       "      <td>0</td>\n",
       "      <td>40</td>\n",
       "      <td>United-States</td>\n",
       "      <td>&lt;=50K</td>\n",
       "    </tr>\n",
       "    <tr>\n",
       "      <th>48840</th>\n",
       "      <td>22</td>\n",
       "      <td>Private</td>\n",
       "      <td>HS-grad</td>\n",
       "      <td>9</td>\n",
       "      <td>Never-married</td>\n",
       "      <td>Adm-clerical</td>\n",
       "      <td>Own-child</td>\n",
       "      <td>White</td>\n",
       "      <td>Male</td>\n",
       "      <td>0</td>\n",
       "      <td>0</td>\n",
       "      <td>20</td>\n",
       "      <td>United-States</td>\n",
       "      <td>&lt;=50K</td>\n",
       "    </tr>\n",
       "    <tr>\n",
       "      <th>48841</th>\n",
       "      <td>52</td>\n",
       "      <td>Self-emp-inc</td>\n",
       "      <td>HS-grad</td>\n",
       "      <td>9</td>\n",
       "      <td>Married-civ-spouse</td>\n",
       "      <td>Exec-managerial</td>\n",
       "      <td>Wife</td>\n",
       "      <td>White</td>\n",
       "      <td>Female</td>\n",
       "      <td>15024</td>\n",
       "      <td>0</td>\n",
       "      <td>40</td>\n",
       "      <td>United-States</td>\n",
       "      <td>&gt;50K</td>\n",
       "    </tr>\n",
       "  </tbody>\n",
       "</table>\n",
       "<p>48842 rows × 14 columns</p>\n",
       "</div>"
      ],
      "text/plain": [
       "       age     workclass     education  educational-num      marital-status  \\\n",
       "0       25       Private          11th                7       Never-married   \n",
       "1       38       Private       HS-grad                9  Married-civ-spouse   \n",
       "2       28     Local-gov    Assoc-acdm               12  Married-civ-spouse   \n",
       "3       44       Private  Some-college               10  Married-civ-spouse   \n",
       "4       18             ?  Some-college               10       Never-married   \n",
       "...    ...           ...           ...              ...                 ...   \n",
       "48837   27       Private    Assoc-acdm               12  Married-civ-spouse   \n",
       "48838   40       Private       HS-grad                9  Married-civ-spouse   \n",
       "48839   58       Private       HS-grad                9             Widowed   \n",
       "48840   22       Private       HS-grad                9       Never-married   \n",
       "48841   52  Self-emp-inc       HS-grad                9  Married-civ-spouse   \n",
       "\n",
       "              occupation relationship   race  gender  capital-gain  \\\n",
       "0      Machine-op-inspct    Own-child  Black    Male             0   \n",
       "1        Farming-fishing      Husband  White    Male             0   \n",
       "2        Protective-serv      Husband  White    Male             0   \n",
       "3      Machine-op-inspct      Husband  Black    Male          7688   \n",
       "4                      ?    Own-child  White  Female             0   \n",
       "...                  ...          ...    ...     ...           ...   \n",
       "48837       Tech-support         Wife  White  Female             0   \n",
       "48838  Machine-op-inspct      Husband  White    Male             0   \n",
       "48839       Adm-clerical    Unmarried  White  Female             0   \n",
       "48840       Adm-clerical    Own-child  White    Male             0   \n",
       "48841    Exec-managerial         Wife  White  Female         15024   \n",
       "\n",
       "       capital-loss  hours-per-week native-country income  \n",
       "0                 0              40  United-States  <=50K  \n",
       "1                 0              50  United-States  <=50K  \n",
       "2                 0              40  United-States   >50K  \n",
       "3                 0              40  United-States   >50K  \n",
       "4                 0              30  United-States  <=50K  \n",
       "...             ...             ...            ...    ...  \n",
       "48837             0              38  United-States  <=50K  \n",
       "48838             0              40  United-States   >50K  \n",
       "48839             0              40  United-States  <=50K  \n",
       "48840             0              20  United-States  <=50K  \n",
       "48841             0              40  United-States   >50K  \n",
       "\n",
       "[48842 rows x 14 columns]"
      ]
     },
     "execution_count": 3,
     "metadata": {},
     "output_type": "execute_result"
    }
   ],
   "source": [
    "df"
   ]
  },
  {
   "cell_type": "code",
   "execution_count": 4,
   "id": "a43b2ae6",
   "metadata": {},
   "outputs": [],
   "source": [
    "df = df.replace('?', np.nan)"
   ]
  },
  {
   "cell_type": "code",
   "execution_count": 5,
   "id": "e5900532",
   "metadata": {},
   "outputs": [],
   "source": [
    "master_dict = {\n",
    "    'collars' : {'white_collar': ['Prof-specialty', 'Exec-managerial', 'Adm-clerical', 'Sales', 'Tech-support'],\n",
    "                       'blue_collar': ['Craft_Repair', 'Machine-op-inspct', 'Transport-moving', 'Handlers-cleaners', \n",
    "                                       'Farming-fishing', 'Protective-serv', 'Priv-house-serv'],\n",
    "                       'others': ['Other-service', 'Armed-Forces']},\n",
    "\n",
    "    'workclass_recod': {'federal_gov': 'Federal-gov', 'state-level-gov': ['State-gov', 'Local-gov'], \n",
    "                       'self_employed': ['Self-emp-inc', 'Self-emp-not-inc'], 'unemployed': ['Never-worked', 'Without-pay']},\n",
    "\n",
    "    'educ_recod': {'preschool': 'Preschool', 'elementary_school': ['1st-4th', '5th-6th'], \n",
    "                  'high_school': ['7th-8th', '9th', '10th', '11th', '12th', 'HS-grad'],\n",
    "                 'college': ['Assoc-voc', 'Assoc-acdm', 'Some-college'],\n",
    "                 'university': ['Bachelors','Masters', 'Prof-school', 'Doctorate']},\n",
    "\n",
    "    'civstatus': {'married': ['Married-civ-spouse', 'Married-spouse-absent', 'Married-AF-spouse'],\n",
    "                    'divorced': 'Divorced', 'separated': 'Separated', 'widowed': 'Widowed'}}"
   ]
  },
  {
   "cell_type": "code",
   "execution_count": 6,
   "id": "3ce48869",
   "metadata": {},
   "outputs": [],
   "source": [
    "for recod in master_dict:\n",
    "    for recod_ in master_dict[recod]:\n",
    "        df = df.replace(to_replace=master_dict[recod][recod_], value=recod_)"
   ]
  },
  {
   "cell_type": "code",
   "execution_count": 7,
   "id": "ebb22fd5",
   "metadata": {},
   "outputs": [],
   "source": [
    "new_columns_names = {'occupation':'collars', 'workclass': 'workclass_recod', 'education': 'educ_recod', \n",
    "                     'marital-status': 'civstatus', 'native-country': 'region'}\n",
    "        \n",
    "df.rename(columns = new_columns_names, inplace = True)"
   ]
  },
  {
   "cell_type": "code",
   "execution_count": 8,
   "id": "5f694093",
   "metadata": {},
   "outputs": [],
   "source": [
    "country_continents = {\n",
    "    'America': ['United-States', 'Mexico', 'Canada', 'Puerto-Rico', 'Cuba', 'Guatemala', 'Nicaragua', 'Peru', 'Ecuador',\n",
    "               'Haiti', 'El-Salvador', 'South', 'Jamaica', 'Dominican-Republic', 'America', 'Trinadad&Tobago', \n",
    "                'Outlying-US(Guam-USVI-etc)', 'Honduras', 'Columbia'],\n",
    "    \n",
    "    'Asia': ['Philippines','China','Vietnam', 'Japan', 'India', 'Taiwan', 'Iran', 'Hong', 'Thailand', 'Cambodia', 'Laos'],\n",
    "    'Oceania': [],\n",
    "    \n",
    "    'Europa': ['Germany', 'England', 'Italy', 'Yugoslavia', 'France', 'Ireland', 'Taiwan', 'Poland', 'Portugal', 'Greece',\n",
    "              'Scotland', 'Hungary', 'Holand-Netherlands'],\n",
    "    \n",
    "    'Africa': []\n",
    "}"
   ]
  },
  {
   "cell_type": "code",
   "execution_count": 9,
   "id": "e459eadf",
   "metadata": {},
   "outputs": [],
   "source": [
    "for continent in country_continents:\n",
    "    df = df.replace(to_replace=country_continents[continent], value=continent)"
   ]
  },
  {
   "cell_type": "code",
   "execution_count": 10,
   "id": "c90961ef",
   "metadata": {},
   "outputs": [
    {
     "data": {
      "text/plain": [
       "America    46224\n",
       "Asia         981\n",
       "Europa       780\n",
       "Name: region, dtype: int64"
      ]
     },
     "execution_count": 10,
     "metadata": {},
     "output_type": "execute_result"
    }
   ],
   "source": [
    "df['region'].value_counts()"
   ]
  },
  {
   "cell_type": "code",
   "execution_count": 11,
   "id": "26b49c88",
   "metadata": {},
   "outputs": [],
   "source": [
    "df = pd.get_dummies(df, drop_first=True)"
   ]
  },
  {
   "cell_type": "code",
   "execution_count": 12,
   "id": "77e74ef5",
   "metadata": {},
   "outputs": [],
   "source": [
    "#Se creó este procesamiento de datos para que las variables pudieran ser utilizadas por el modelo descriptivo.\n",
    "#se reemplazó - por _ en el nombre de las variables\n",
    "df.rename(columns = {column: column.replace('-', '_') for column in df.columns}, inplace = True) "
   ]
  },
  {
   "cell_type": "code",
   "execution_count": 13,
   "id": "0624ac7a",
   "metadata": {},
   "outputs": [
    {
     "data": {
      "text/plain": [
       "Index(['age', 'educational_num', 'capital_gain', 'capital_loss',\n",
       "       'hours_per_week', 'workclass_recod_federal_gov',\n",
       "       'workclass_recod_self_employed', 'workclass_recod_state_level_gov',\n",
       "       'workclass_recod_unemployed', 'educ_recod_elementary_school',\n",
       "       'educ_recod_high_school', 'educ_recod_preschool',\n",
       "       'educ_recod_university', 'civstatus_divorced', 'civstatus_married',\n",
       "       'civstatus_separated', 'civstatus_widowed', 'collars_blue_collar',\n",
       "       'collars_others', 'collars_white_collar', 'relationship_Not_in_family',\n",
       "       'relationship_Other_relative', 'relationship_Own_child',\n",
       "       'relationship_Unmarried', 'relationship_Wife',\n",
       "       'race_Asian_Pac_Islander', 'race_Black', 'race_Other', 'race_White',\n",
       "       'gender_Male', 'region_Asia', 'region_Europa', 'income_>50K'],\n",
       "      dtype='object')"
      ]
     },
     "execution_count": 13,
     "metadata": {},
     "output_type": "execute_result"
    }
   ],
   "source": [
    "df.columns"
   ]
  },
  {
   "cell_type": "code",
   "execution_count": 14,
   "id": "1adae8f6",
   "metadata": {
    "scrolled": false
   },
   "outputs": [
    {
     "data": {
      "text/html": [
       "<div>\n",
       "<style scoped>\n",
       "    .dataframe tbody tr th:only-of-type {\n",
       "        vertical-align: middle;\n",
       "    }\n",
       "\n",
       "    .dataframe tbody tr th {\n",
       "        vertical-align: top;\n",
       "    }\n",
       "\n",
       "    .dataframe thead th {\n",
       "        text-align: right;\n",
       "    }\n",
       "</style>\n",
       "<table border=\"1\" class=\"dataframe\">\n",
       "  <thead>\n",
       "    <tr style=\"text-align: right;\">\n",
       "      <th></th>\n",
       "      <th>age</th>\n",
       "      <th>educational_num</th>\n",
       "      <th>capital_gain</th>\n",
       "      <th>capital_loss</th>\n",
       "      <th>hours_per_week</th>\n",
       "      <th>workclass_recod_federal_gov</th>\n",
       "      <th>workclass_recod_self_employed</th>\n",
       "      <th>workclass_recod_state_level_gov</th>\n",
       "      <th>workclass_recod_unemployed</th>\n",
       "      <th>educ_recod_elementary_school</th>\n",
       "      <th>...</th>\n",
       "      <th>relationship_Unmarried</th>\n",
       "      <th>relationship_Wife</th>\n",
       "      <th>race_Asian_Pac_Islander</th>\n",
       "      <th>race_Black</th>\n",
       "      <th>race_Other</th>\n",
       "      <th>race_White</th>\n",
       "      <th>gender_Male</th>\n",
       "      <th>region_Asia</th>\n",
       "      <th>region_Europa</th>\n",
       "      <th>income_&gt;50K</th>\n",
       "    </tr>\n",
       "  </thead>\n",
       "  <tbody>\n",
       "    <tr>\n",
       "      <th>0</th>\n",
       "      <td>25</td>\n",
       "      <td>7</td>\n",
       "      <td>0</td>\n",
       "      <td>0</td>\n",
       "      <td>40</td>\n",
       "      <td>0</td>\n",
       "      <td>0</td>\n",
       "      <td>0</td>\n",
       "      <td>0</td>\n",
       "      <td>0</td>\n",
       "      <td>...</td>\n",
       "      <td>0</td>\n",
       "      <td>0</td>\n",
       "      <td>0</td>\n",
       "      <td>1</td>\n",
       "      <td>0</td>\n",
       "      <td>0</td>\n",
       "      <td>1</td>\n",
       "      <td>0</td>\n",
       "      <td>0</td>\n",
       "      <td>0</td>\n",
       "    </tr>\n",
       "    <tr>\n",
       "      <th>1</th>\n",
       "      <td>38</td>\n",
       "      <td>9</td>\n",
       "      <td>0</td>\n",
       "      <td>0</td>\n",
       "      <td>50</td>\n",
       "      <td>0</td>\n",
       "      <td>0</td>\n",
       "      <td>0</td>\n",
       "      <td>0</td>\n",
       "      <td>0</td>\n",
       "      <td>...</td>\n",
       "      <td>0</td>\n",
       "      <td>0</td>\n",
       "      <td>0</td>\n",
       "      <td>0</td>\n",
       "      <td>0</td>\n",
       "      <td>1</td>\n",
       "      <td>1</td>\n",
       "      <td>0</td>\n",
       "      <td>0</td>\n",
       "      <td>0</td>\n",
       "    </tr>\n",
       "    <tr>\n",
       "      <th>2</th>\n",
       "      <td>28</td>\n",
       "      <td>12</td>\n",
       "      <td>0</td>\n",
       "      <td>0</td>\n",
       "      <td>40</td>\n",
       "      <td>0</td>\n",
       "      <td>0</td>\n",
       "      <td>1</td>\n",
       "      <td>0</td>\n",
       "      <td>0</td>\n",
       "      <td>...</td>\n",
       "      <td>0</td>\n",
       "      <td>0</td>\n",
       "      <td>0</td>\n",
       "      <td>0</td>\n",
       "      <td>0</td>\n",
       "      <td>1</td>\n",
       "      <td>1</td>\n",
       "      <td>0</td>\n",
       "      <td>0</td>\n",
       "      <td>1</td>\n",
       "    </tr>\n",
       "    <tr>\n",
       "      <th>3</th>\n",
       "      <td>44</td>\n",
       "      <td>10</td>\n",
       "      <td>7688</td>\n",
       "      <td>0</td>\n",
       "      <td>40</td>\n",
       "      <td>0</td>\n",
       "      <td>0</td>\n",
       "      <td>0</td>\n",
       "      <td>0</td>\n",
       "      <td>0</td>\n",
       "      <td>...</td>\n",
       "      <td>0</td>\n",
       "      <td>0</td>\n",
       "      <td>0</td>\n",
       "      <td>1</td>\n",
       "      <td>0</td>\n",
       "      <td>0</td>\n",
       "      <td>1</td>\n",
       "      <td>0</td>\n",
       "      <td>0</td>\n",
       "      <td>1</td>\n",
       "    </tr>\n",
       "    <tr>\n",
       "      <th>4</th>\n",
       "      <td>18</td>\n",
       "      <td>10</td>\n",
       "      <td>0</td>\n",
       "      <td>0</td>\n",
       "      <td>30</td>\n",
       "      <td>0</td>\n",
       "      <td>0</td>\n",
       "      <td>0</td>\n",
       "      <td>0</td>\n",
       "      <td>0</td>\n",
       "      <td>...</td>\n",
       "      <td>0</td>\n",
       "      <td>0</td>\n",
       "      <td>0</td>\n",
       "      <td>0</td>\n",
       "      <td>0</td>\n",
       "      <td>1</td>\n",
       "      <td>0</td>\n",
       "      <td>0</td>\n",
       "      <td>0</td>\n",
       "      <td>0</td>\n",
       "    </tr>\n",
       "    <tr>\n",
       "      <th>...</th>\n",
       "      <td>...</td>\n",
       "      <td>...</td>\n",
       "      <td>...</td>\n",
       "      <td>...</td>\n",
       "      <td>...</td>\n",
       "      <td>...</td>\n",
       "      <td>...</td>\n",
       "      <td>...</td>\n",
       "      <td>...</td>\n",
       "      <td>...</td>\n",
       "      <td>...</td>\n",
       "      <td>...</td>\n",
       "      <td>...</td>\n",
       "      <td>...</td>\n",
       "      <td>...</td>\n",
       "      <td>...</td>\n",
       "      <td>...</td>\n",
       "      <td>...</td>\n",
       "      <td>...</td>\n",
       "      <td>...</td>\n",
       "      <td>...</td>\n",
       "    </tr>\n",
       "    <tr>\n",
       "      <th>48837</th>\n",
       "      <td>27</td>\n",
       "      <td>12</td>\n",
       "      <td>0</td>\n",
       "      <td>0</td>\n",
       "      <td>38</td>\n",
       "      <td>0</td>\n",
       "      <td>0</td>\n",
       "      <td>0</td>\n",
       "      <td>0</td>\n",
       "      <td>0</td>\n",
       "      <td>...</td>\n",
       "      <td>0</td>\n",
       "      <td>1</td>\n",
       "      <td>0</td>\n",
       "      <td>0</td>\n",
       "      <td>0</td>\n",
       "      <td>1</td>\n",
       "      <td>0</td>\n",
       "      <td>0</td>\n",
       "      <td>0</td>\n",
       "      <td>0</td>\n",
       "    </tr>\n",
       "    <tr>\n",
       "      <th>48838</th>\n",
       "      <td>40</td>\n",
       "      <td>9</td>\n",
       "      <td>0</td>\n",
       "      <td>0</td>\n",
       "      <td>40</td>\n",
       "      <td>0</td>\n",
       "      <td>0</td>\n",
       "      <td>0</td>\n",
       "      <td>0</td>\n",
       "      <td>0</td>\n",
       "      <td>...</td>\n",
       "      <td>0</td>\n",
       "      <td>0</td>\n",
       "      <td>0</td>\n",
       "      <td>0</td>\n",
       "      <td>0</td>\n",
       "      <td>1</td>\n",
       "      <td>1</td>\n",
       "      <td>0</td>\n",
       "      <td>0</td>\n",
       "      <td>1</td>\n",
       "    </tr>\n",
       "    <tr>\n",
       "      <th>48839</th>\n",
       "      <td>58</td>\n",
       "      <td>9</td>\n",
       "      <td>0</td>\n",
       "      <td>0</td>\n",
       "      <td>40</td>\n",
       "      <td>0</td>\n",
       "      <td>0</td>\n",
       "      <td>0</td>\n",
       "      <td>0</td>\n",
       "      <td>0</td>\n",
       "      <td>...</td>\n",
       "      <td>1</td>\n",
       "      <td>0</td>\n",
       "      <td>0</td>\n",
       "      <td>0</td>\n",
       "      <td>0</td>\n",
       "      <td>1</td>\n",
       "      <td>0</td>\n",
       "      <td>0</td>\n",
       "      <td>0</td>\n",
       "      <td>0</td>\n",
       "    </tr>\n",
       "    <tr>\n",
       "      <th>48840</th>\n",
       "      <td>22</td>\n",
       "      <td>9</td>\n",
       "      <td>0</td>\n",
       "      <td>0</td>\n",
       "      <td>20</td>\n",
       "      <td>0</td>\n",
       "      <td>0</td>\n",
       "      <td>0</td>\n",
       "      <td>0</td>\n",
       "      <td>0</td>\n",
       "      <td>...</td>\n",
       "      <td>0</td>\n",
       "      <td>0</td>\n",
       "      <td>0</td>\n",
       "      <td>0</td>\n",
       "      <td>0</td>\n",
       "      <td>1</td>\n",
       "      <td>1</td>\n",
       "      <td>0</td>\n",
       "      <td>0</td>\n",
       "      <td>0</td>\n",
       "    </tr>\n",
       "    <tr>\n",
       "      <th>48841</th>\n",
       "      <td>52</td>\n",
       "      <td>9</td>\n",
       "      <td>15024</td>\n",
       "      <td>0</td>\n",
       "      <td>40</td>\n",
       "      <td>0</td>\n",
       "      <td>1</td>\n",
       "      <td>0</td>\n",
       "      <td>0</td>\n",
       "      <td>0</td>\n",
       "      <td>...</td>\n",
       "      <td>0</td>\n",
       "      <td>1</td>\n",
       "      <td>0</td>\n",
       "      <td>0</td>\n",
       "      <td>0</td>\n",
       "      <td>1</td>\n",
       "      <td>0</td>\n",
       "      <td>0</td>\n",
       "      <td>0</td>\n",
       "      <td>1</td>\n",
       "    </tr>\n",
       "  </tbody>\n",
       "</table>\n",
       "<p>48842 rows × 33 columns</p>\n",
       "</div>"
      ],
      "text/plain": [
       "       age  educational_num  capital_gain  capital_loss  hours_per_week  \\\n",
       "0       25                7             0             0              40   \n",
       "1       38                9             0             0              50   \n",
       "2       28               12             0             0              40   \n",
       "3       44               10          7688             0              40   \n",
       "4       18               10             0             0              30   \n",
       "...    ...              ...           ...           ...             ...   \n",
       "48837   27               12             0             0              38   \n",
       "48838   40                9             0             0              40   \n",
       "48839   58                9             0             0              40   \n",
       "48840   22                9             0             0              20   \n",
       "48841   52                9         15024             0              40   \n",
       "\n",
       "       workclass_recod_federal_gov  workclass_recod_self_employed  \\\n",
       "0                                0                              0   \n",
       "1                                0                              0   \n",
       "2                                0                              0   \n",
       "3                                0                              0   \n",
       "4                                0                              0   \n",
       "...                            ...                            ...   \n",
       "48837                            0                              0   \n",
       "48838                            0                              0   \n",
       "48839                            0                              0   \n",
       "48840                            0                              0   \n",
       "48841                            0                              1   \n",
       "\n",
       "       workclass_recod_state_level_gov  workclass_recod_unemployed  \\\n",
       "0                                    0                           0   \n",
       "1                                    0                           0   \n",
       "2                                    1                           0   \n",
       "3                                    0                           0   \n",
       "4                                    0                           0   \n",
       "...                                ...                         ...   \n",
       "48837                                0                           0   \n",
       "48838                                0                           0   \n",
       "48839                                0                           0   \n",
       "48840                                0                           0   \n",
       "48841                                0                           0   \n",
       "\n",
       "       educ_recod_elementary_school  ...  relationship_Unmarried  \\\n",
       "0                                 0  ...                       0   \n",
       "1                                 0  ...                       0   \n",
       "2                                 0  ...                       0   \n",
       "3                                 0  ...                       0   \n",
       "4                                 0  ...                       0   \n",
       "...                             ...  ...                     ...   \n",
       "48837                             0  ...                       0   \n",
       "48838                             0  ...                       0   \n",
       "48839                             0  ...                       1   \n",
       "48840                             0  ...                       0   \n",
       "48841                             0  ...                       0   \n",
       "\n",
       "       relationship_Wife  race_Asian_Pac_Islander  race_Black  race_Other  \\\n",
       "0                      0                        0           1           0   \n",
       "1                      0                        0           0           0   \n",
       "2                      0                        0           0           0   \n",
       "3                      0                        0           1           0   \n",
       "4                      0                        0           0           0   \n",
       "...                  ...                      ...         ...         ...   \n",
       "48837                  1                        0           0           0   \n",
       "48838                  0                        0           0           0   \n",
       "48839                  0                        0           0           0   \n",
       "48840                  0                        0           0           0   \n",
       "48841                  1                        0           0           0   \n",
       "\n",
       "       race_White  gender_Male  region_Asia  region_Europa  income_>50K  \n",
       "0               0            1            0              0            0  \n",
       "1               1            1            0              0            0  \n",
       "2               1            1            0              0            1  \n",
       "3               0            1            0              0            1  \n",
       "4               1            0            0              0            0  \n",
       "...           ...          ...          ...            ...          ...  \n",
       "48837           1            0            0              0            0  \n",
       "48838           1            1            0              0            1  \n",
       "48839           1            0            0              0            0  \n",
       "48840           1            1            0              0            0  \n",
       "48841           1            0            0              0            1  \n",
       "\n",
       "[48842 rows x 33 columns]"
      ]
     },
     "execution_count": 14,
     "metadata": {},
     "output_type": "execute_result"
    }
   ],
   "source": [
    "df"
   ]
  },
  {
   "cell_type": "code",
   "execution_count": 15,
   "id": "0cf0feeb",
   "metadata": {},
   "outputs": [
    {
     "data": {
      "text/html": [
       "<div>\n",
       "<style scoped>\n",
       "    .dataframe tbody tr th:only-of-type {\n",
       "        vertical-align: middle;\n",
       "    }\n",
       "\n",
       "    .dataframe tbody tr th {\n",
       "        vertical-align: top;\n",
       "    }\n",
       "\n",
       "    .dataframe thead th {\n",
       "        text-align: right;\n",
       "    }\n",
       "</style>\n",
       "<table border=\"1\" class=\"dataframe\">\n",
       "  <thead>\n",
       "    <tr style=\"text-align: right;\">\n",
       "      <th></th>\n",
       "      <th>age</th>\n",
       "      <th>educational_num</th>\n",
       "      <th>capital_gain</th>\n",
       "      <th>capital_loss</th>\n",
       "      <th>hours_per_week</th>\n",
       "      <th>workclass_recod_federal_gov</th>\n",
       "      <th>workclass_recod_self_employed</th>\n",
       "      <th>workclass_recod_state_level_gov</th>\n",
       "      <th>workclass_recod_unemployed</th>\n",
       "      <th>educ_recod_elementary_school</th>\n",
       "      <th>...</th>\n",
       "      <th>relationship_Unmarried</th>\n",
       "      <th>relationship_Wife</th>\n",
       "      <th>race_Asian_Pac_Islander</th>\n",
       "      <th>race_Black</th>\n",
       "      <th>race_Other</th>\n",
       "      <th>race_White</th>\n",
       "      <th>gender_Male</th>\n",
       "      <th>region_Asia</th>\n",
       "      <th>region_Europa</th>\n",
       "      <th>income_&gt;50K</th>\n",
       "    </tr>\n",
       "  </thead>\n",
       "  <tbody>\n",
       "    <tr>\n",
       "      <th>count</th>\n",
       "      <td>48842.000000</td>\n",
       "      <td>48842.000000</td>\n",
       "      <td>48842.000000</td>\n",
       "      <td>48842.000000</td>\n",
       "      <td>48842.000000</td>\n",
       "      <td>48842.000000</td>\n",
       "      <td>48842.000000</td>\n",
       "      <td>48842.000000</td>\n",
       "      <td>48842.000000</td>\n",
       "      <td>48842.000000</td>\n",
       "      <td>...</td>\n",
       "      <td>48842.000000</td>\n",
       "      <td>48842.000000</td>\n",
       "      <td>48842.000000</td>\n",
       "      <td>48842.000000</td>\n",
       "      <td>48842.000000</td>\n",
       "      <td>48842.000000</td>\n",
       "      <td>48842.000000</td>\n",
       "      <td>48842.000000</td>\n",
       "      <td>48842.00000</td>\n",
       "      <td>48842.000000</td>\n",
       "    </tr>\n",
       "    <tr>\n",
       "      <th>mean</th>\n",
       "      <td>38.643585</td>\n",
       "      <td>10.078089</td>\n",
       "      <td>1079.067626</td>\n",
       "      <td>87.502314</td>\n",
       "      <td>40.422382</td>\n",
       "      <td>0.029319</td>\n",
       "      <td>0.113775</td>\n",
       "      <td>0.104766</td>\n",
       "      <td>0.000635</td>\n",
       "      <td>0.015478</td>\n",
       "      <td>...</td>\n",
       "      <td>0.104930</td>\n",
       "      <td>0.047725</td>\n",
       "      <td>0.031100</td>\n",
       "      <td>0.095922</td>\n",
       "      <td>0.008313</td>\n",
       "      <td>0.855043</td>\n",
       "      <td>0.668482</td>\n",
       "      <td>0.020085</td>\n",
       "      <td>0.01597</td>\n",
       "      <td>0.239282</td>\n",
       "    </tr>\n",
       "    <tr>\n",
       "      <th>std</th>\n",
       "      <td>13.710510</td>\n",
       "      <td>2.570973</td>\n",
       "      <td>7452.019058</td>\n",
       "      <td>403.004552</td>\n",
       "      <td>12.391444</td>\n",
       "      <td>0.168701</td>\n",
       "      <td>0.317541</td>\n",
       "      <td>0.306255</td>\n",
       "      <td>0.025186</td>\n",
       "      <td>0.123447</td>\n",
       "      <td>...</td>\n",
       "      <td>0.306467</td>\n",
       "      <td>0.213187</td>\n",
       "      <td>0.173591</td>\n",
       "      <td>0.294487</td>\n",
       "      <td>0.090794</td>\n",
       "      <td>0.352061</td>\n",
       "      <td>0.470764</td>\n",
       "      <td>0.140293</td>\n",
       "      <td>0.12536</td>\n",
       "      <td>0.426649</td>\n",
       "    </tr>\n",
       "    <tr>\n",
       "      <th>min</th>\n",
       "      <td>17.000000</td>\n",
       "      <td>1.000000</td>\n",
       "      <td>0.000000</td>\n",
       "      <td>0.000000</td>\n",
       "      <td>1.000000</td>\n",
       "      <td>0.000000</td>\n",
       "      <td>0.000000</td>\n",
       "      <td>0.000000</td>\n",
       "      <td>0.000000</td>\n",
       "      <td>0.000000</td>\n",
       "      <td>...</td>\n",
       "      <td>0.000000</td>\n",
       "      <td>0.000000</td>\n",
       "      <td>0.000000</td>\n",
       "      <td>0.000000</td>\n",
       "      <td>0.000000</td>\n",
       "      <td>0.000000</td>\n",
       "      <td>0.000000</td>\n",
       "      <td>0.000000</td>\n",
       "      <td>0.00000</td>\n",
       "      <td>0.000000</td>\n",
       "    </tr>\n",
       "    <tr>\n",
       "      <th>25%</th>\n",
       "      <td>28.000000</td>\n",
       "      <td>9.000000</td>\n",
       "      <td>0.000000</td>\n",
       "      <td>0.000000</td>\n",
       "      <td>40.000000</td>\n",
       "      <td>0.000000</td>\n",
       "      <td>0.000000</td>\n",
       "      <td>0.000000</td>\n",
       "      <td>0.000000</td>\n",
       "      <td>0.000000</td>\n",
       "      <td>...</td>\n",
       "      <td>0.000000</td>\n",
       "      <td>0.000000</td>\n",
       "      <td>0.000000</td>\n",
       "      <td>0.000000</td>\n",
       "      <td>0.000000</td>\n",
       "      <td>1.000000</td>\n",
       "      <td>0.000000</td>\n",
       "      <td>0.000000</td>\n",
       "      <td>0.00000</td>\n",
       "      <td>0.000000</td>\n",
       "    </tr>\n",
       "    <tr>\n",
       "      <th>50%</th>\n",
       "      <td>37.000000</td>\n",
       "      <td>10.000000</td>\n",
       "      <td>0.000000</td>\n",
       "      <td>0.000000</td>\n",
       "      <td>40.000000</td>\n",
       "      <td>0.000000</td>\n",
       "      <td>0.000000</td>\n",
       "      <td>0.000000</td>\n",
       "      <td>0.000000</td>\n",
       "      <td>0.000000</td>\n",
       "      <td>...</td>\n",
       "      <td>0.000000</td>\n",
       "      <td>0.000000</td>\n",
       "      <td>0.000000</td>\n",
       "      <td>0.000000</td>\n",
       "      <td>0.000000</td>\n",
       "      <td>1.000000</td>\n",
       "      <td>1.000000</td>\n",
       "      <td>0.000000</td>\n",
       "      <td>0.00000</td>\n",
       "      <td>0.000000</td>\n",
       "    </tr>\n",
       "    <tr>\n",
       "      <th>75%</th>\n",
       "      <td>48.000000</td>\n",
       "      <td>12.000000</td>\n",
       "      <td>0.000000</td>\n",
       "      <td>0.000000</td>\n",
       "      <td>45.000000</td>\n",
       "      <td>0.000000</td>\n",
       "      <td>0.000000</td>\n",
       "      <td>0.000000</td>\n",
       "      <td>0.000000</td>\n",
       "      <td>0.000000</td>\n",
       "      <td>...</td>\n",
       "      <td>0.000000</td>\n",
       "      <td>0.000000</td>\n",
       "      <td>0.000000</td>\n",
       "      <td>0.000000</td>\n",
       "      <td>0.000000</td>\n",
       "      <td>1.000000</td>\n",
       "      <td>1.000000</td>\n",
       "      <td>0.000000</td>\n",
       "      <td>0.00000</td>\n",
       "      <td>0.000000</td>\n",
       "    </tr>\n",
       "    <tr>\n",
       "      <th>max</th>\n",
       "      <td>90.000000</td>\n",
       "      <td>16.000000</td>\n",
       "      <td>99999.000000</td>\n",
       "      <td>4356.000000</td>\n",
       "      <td>99.000000</td>\n",
       "      <td>1.000000</td>\n",
       "      <td>1.000000</td>\n",
       "      <td>1.000000</td>\n",
       "      <td>1.000000</td>\n",
       "      <td>1.000000</td>\n",
       "      <td>...</td>\n",
       "      <td>1.000000</td>\n",
       "      <td>1.000000</td>\n",
       "      <td>1.000000</td>\n",
       "      <td>1.000000</td>\n",
       "      <td>1.000000</td>\n",
       "      <td>1.000000</td>\n",
       "      <td>1.000000</td>\n",
       "      <td>1.000000</td>\n",
       "      <td>1.00000</td>\n",
       "      <td>1.000000</td>\n",
       "    </tr>\n",
       "  </tbody>\n",
       "</table>\n",
       "<p>8 rows × 33 columns</p>\n",
       "</div>"
      ],
      "text/plain": [
       "                age  educational_num  capital_gain  capital_loss  \\\n",
       "count  48842.000000     48842.000000  48842.000000  48842.000000   \n",
       "mean      38.643585        10.078089   1079.067626     87.502314   \n",
       "std       13.710510         2.570973   7452.019058    403.004552   \n",
       "min       17.000000         1.000000      0.000000      0.000000   \n",
       "25%       28.000000         9.000000      0.000000      0.000000   \n",
       "50%       37.000000        10.000000      0.000000      0.000000   \n",
       "75%       48.000000        12.000000      0.000000      0.000000   \n",
       "max       90.000000        16.000000  99999.000000   4356.000000   \n",
       "\n",
       "       hours_per_week  workclass_recod_federal_gov  \\\n",
       "count    48842.000000                 48842.000000   \n",
       "mean        40.422382                     0.029319   \n",
       "std         12.391444                     0.168701   \n",
       "min          1.000000                     0.000000   \n",
       "25%         40.000000                     0.000000   \n",
       "50%         40.000000                     0.000000   \n",
       "75%         45.000000                     0.000000   \n",
       "max         99.000000                     1.000000   \n",
       "\n",
       "       workclass_recod_self_employed  workclass_recod_state_level_gov  \\\n",
       "count                   48842.000000                     48842.000000   \n",
       "mean                        0.113775                         0.104766   \n",
       "std                         0.317541                         0.306255   \n",
       "min                         0.000000                         0.000000   \n",
       "25%                         0.000000                         0.000000   \n",
       "50%                         0.000000                         0.000000   \n",
       "75%                         0.000000                         0.000000   \n",
       "max                         1.000000                         1.000000   \n",
       "\n",
       "       workclass_recod_unemployed  educ_recod_elementary_school  ...  \\\n",
       "count                48842.000000                  48842.000000  ...   \n",
       "mean                     0.000635                      0.015478  ...   \n",
       "std                      0.025186                      0.123447  ...   \n",
       "min                      0.000000                      0.000000  ...   \n",
       "25%                      0.000000                      0.000000  ...   \n",
       "50%                      0.000000                      0.000000  ...   \n",
       "75%                      0.000000                      0.000000  ...   \n",
       "max                      1.000000                      1.000000  ...   \n",
       "\n",
       "       relationship_Unmarried  relationship_Wife  race_Asian_Pac_Islander  \\\n",
       "count            48842.000000       48842.000000             48842.000000   \n",
       "mean                 0.104930           0.047725                 0.031100   \n",
       "std                  0.306467           0.213187                 0.173591   \n",
       "min                  0.000000           0.000000                 0.000000   \n",
       "25%                  0.000000           0.000000                 0.000000   \n",
       "50%                  0.000000           0.000000                 0.000000   \n",
       "75%                  0.000000           0.000000                 0.000000   \n",
       "max                  1.000000           1.000000                 1.000000   \n",
       "\n",
       "         race_Black    race_Other    race_White   gender_Male   region_Asia  \\\n",
       "count  48842.000000  48842.000000  48842.000000  48842.000000  48842.000000   \n",
       "mean       0.095922      0.008313      0.855043      0.668482      0.020085   \n",
       "std        0.294487      0.090794      0.352061      0.470764      0.140293   \n",
       "min        0.000000      0.000000      0.000000      0.000000      0.000000   \n",
       "25%        0.000000      0.000000      1.000000      0.000000      0.000000   \n",
       "50%        0.000000      0.000000      1.000000      1.000000      0.000000   \n",
       "75%        0.000000      0.000000      1.000000      1.000000      0.000000   \n",
       "max        1.000000      1.000000      1.000000      1.000000      1.000000   \n",
       "\n",
       "       region_Europa   income_>50K  \n",
       "count    48842.00000  48842.000000  \n",
       "mean         0.01597      0.239282  \n",
       "std          0.12536      0.426649  \n",
       "min          0.00000      0.000000  \n",
       "25%          0.00000      0.000000  \n",
       "50%          0.00000      0.000000  \n",
       "75%          0.00000      0.000000  \n",
       "max          1.00000      1.000000  \n",
       "\n",
       "[8 rows x 33 columns]"
      ]
     },
     "execution_count": 15,
     "metadata": {},
     "output_type": "execute_result"
    }
   ],
   "source": [
    "df.describe()"
   ]
  },
  {
   "cell_type": "markdown",
   "id": "387252b3",
   "metadata": {},
   "source": [
    "### Inspección visual de vector objetivo"
   ]
  },
  {
   "cell_type": "code",
   "execution_count": 16,
   "id": "44f87230",
   "metadata": {
    "scrolled": true
   },
   "outputs": [
    {
     "data": {
      "image/png": "[encoded data removed]",
      "text/plain": [
       "<Figure size 576x396 with 1 Axes>"
      ]
     },
     "metadata": {},
     "output_type": "display_data"
    }
   ],
   "source": [
    "sns.violinplot(data=df['income_>50K']);\n",
    "#La proporción de individuos que tienen un salario anual mayor a 50,000 dólares es significativamente inferior."
   ]
  },
  {
   "cell_type": "code",
   "execution_count": 17,
   "id": "9a4c1c03",
   "metadata": {
    "scrolled": true
   },
   "outputs": [
    {
     "data": {
      "image/png": "[encoded data removed]",
      "text/plain": [
       "<Figure size 576x396 with 1 Axes>"
      ]
     },
     "metadata": {},
     "output_type": "display_data"
    }
   ],
   "source": [
    "sns.countplot(x=df['income_>50K'], palette=\"YlOrRd\", alpha=.5);"
   ]
  },
  {
   "cell_type": "markdown",
   "id": "389ec2dc",
   "metadata": {},
   "source": [
    "La cantidad de datos está más concentrada en individuos que ganan menos del umbral, por lo que es posible que el modelo aprenda mejor a predecir a individuos que están por debajo del umbral."
   ]
  },
  {
   "cell_type": "markdown",
   "id": "1c082504",
   "metadata": {},
   "source": [
    "### Inspección visual de las variables"
   ]
  },
  {
   "cell_type": "code",
   "execution_count": 18,
   "id": "e3d1d207",
   "metadata": {
    "scrolled": true
   },
   "outputs": [
    {
     "data": {
      "image/png": "[encoded data removed]",
      "text/plain": [
       "<Figure size 576x396 with 1 Axes>"
      ]
     },
     "metadata": {},
     "output_type": "display_data"
    }
   ],
   "source": [
    "sns.boxplot(data=df, x='income_>50K', y=\"age\");"
   ]
  },
  {
   "cell_type": "code",
   "execution_count": 19,
   "id": "6ccd525e",
   "metadata": {
    "scrolled": true
   },
   "outputs": [
    {
     "data": {
      "image/png": "[encoded data removed]",
      "text/plain": [
       "<Figure size 576x396 with 1 Axes>"
      ]
     },
     "metadata": {},
     "output_type": "display_data"
    }
   ],
   "source": [
    "sns.histplot(data=df, x='age', stat='density', common_norm=False);"
   ]
  },
  {
   "cell_type": "code",
   "execution_count": 20,
   "id": "ea7680d9",
   "metadata": {},
   "outputs": [
    {
     "data": {
      "image/png": "[encoded data removed]",
      "text/plain": [
       "<Figure size 576x396 with 1 Axes>"
      ]
     },
     "metadata": {},
     "output_type": "display_data"
    }
   ],
   "source": [
    "sns.kdeplot(data=df, x='age',y=\"hours_per_week\", cmap='Reds', shade=True);"
   ]
  },
  {
   "cell_type": "code",
   "execution_count": 21,
   "id": "517887a3",
   "metadata": {
    "scrolled": true
   },
   "outputs": [
    {
     "data": {
      "image/png": "[encoded data removed]",
      "text/plain": [
       "<Figure size 576x396 with 1 Axes>"
      ]
     },
     "metadata": {},
     "output_type": "display_data"
    }
   ],
   "source": [
    "sns.boxplot(data=df, x='income_>50K', y=\"hours_per_week\");\n",
    "#gran presencia de outliers."
   ]
  },
  {
   "cell_type": "markdown",
   "id": "d9529061",
   "metadata": {},
   "source": [
    "La gran cantidad de valores atípicos en las horas trabajadas por semana puede ser indicativa de que estos datos pertenecen a una población diferente del resto de los datos que se encuentran dentro de las cajas del diagrama de cajas."
   ]
  },
  {
   "cell_type": "code",
   "execution_count": 22,
   "id": "104a25fc",
   "metadata": {
    "scrolled": false
   },
   "outputs": [
    {
     "data": {
      "image/png": "[encoded data removed]",
      "text/plain": [
       "<Figure size 576x396 with 1 Axes>"
      ]
     },
     "metadata": {},
     "output_type": "display_data"
    }
   ],
   "source": [
    "sns.boxplot(data=df[df[\"hours_per_week\"] < np.quantile(df[\"hours_per_week\"], 0.5)], x='income_>50K', y=\"hours_per_week\");"
   ]
  },
  {
   "cell_type": "markdown",
   "id": "e51bd8ff",
   "metadata": {},
   "source": [
    "Es decir, parece haber una mayor dispersion de horas trabajadas por semana en los individuos que ganan más de 50 mil dólares anuales por debajo de la mediana, mientras que los que ganan menos del umbral tienen una mayor dispersion por encima de la mediana. Esto podría ser un indicio de que el número de horas trabajadas por semana podría ser una variable relevante a la hora de predecir el salario de un individuo."
   ]
  },
  {
   "cell_type": "code",
   "execution_count": 23,
   "id": "7379ca17",
   "metadata": {
    "scrolled": true
   },
   "outputs": [
    {
     "data": {
      "image/png": "[encoded data removed]",
      "text/plain": [
       "<Figure size 576x396 with 1 Axes>"
      ]
     },
     "metadata": {},
     "output_type": "display_data"
    }
   ],
   "source": [
    "sns.violinplot(x='workclass_recod_self_employed', y=\"income_>50K\", data=df, palette=\"Pastel2\");"
   ]
  },
  {
   "cell_type": "markdown",
   "id": "0ebcbca1",
   "metadata": {},
   "source": [
    "Se puede observar que los individuos que son trabajadores por cuenta propia, están distribuidos de forma más pareja en comparación con los que no lo son. La representación sugiere que hay mayor cantidad de individuos que ganan por debajo del umbral correspondientes a los que trabajan de forma dependiente.\n"
   ]
  },
  {
   "cell_type": "code",
   "execution_count": 24,
   "id": "ca8c4b50",
   "metadata": {
    "scrolled": true
   },
   "outputs": [
    {
     "data": {
      "image/png": "[encoded data removed]",
      "text/plain": [
       "<Figure size 576x396 with 1 Axes>"
      ]
     },
     "metadata": {},
     "output_type": "display_data"
    }
   ],
   "source": [
    "sns.violinplot(x='workclass_recod_self_employed', y=\"income_>50K\", hue='region_Asia', data=df,\n",
    "              palette=\"Set2\");"
   ]
  },
  {
   "cell_type": "code",
   "execution_count": 25,
   "id": "71e7fbff",
   "metadata": {
    "scrolled": true
   },
   "outputs": [
    {
     "data": {
      "image/png": "[encoded data removed]",
      "text/plain": [
       "<Figure size 576x396 with 1 Axes>"
      ]
     },
     "metadata": {},
     "output_type": "display_data"
    }
   ],
   "source": [
    "sns.violinplot(x='workclass_recod_self_employed', y=\"income_>50K\", hue='civstatus_separated', data=df,\n",
    "              palette=\"Accent\");"
   ]
  },
  {
   "cell_type": "markdown",
   "id": "288b9c3a",
   "metadata": {},
   "source": [
    "Es notable que la mayoría de los individuos separados ganan menos de 50 mil dólares al año, independientemente de si trabajan por cuenta propia o no. Sin embargo, es más común encontrar a separados que trabajan por cuenta propia y ganan menos del umbral que a aquellos que no lo son."
   ]
  },
  {
   "cell_type": "code",
   "execution_count": 26,
   "id": "80ba879f",
   "metadata": {
    "scrolled": true
   },
   "outputs": [
    {
     "data": {
      "image/png": "[encoded data removed]",
      "text/plain": [
       "<Figure size 576x396 with 1 Axes>"
      ]
     },
     "metadata": {},
     "output_type": "display_data"
    }
   ],
   "source": [
    "sns.histplot(binwidth=0.5, x=\"gender_Male\", hue=\"income_>50K\", data=df, stat=\"count\", multiple=\"stack\",\n",
    "            alpha=.5, palette=\"YlOrRd\");"
   ]
  },
  {
   "cell_type": "code",
   "execution_count": 27,
   "id": "b82ff091",
   "metadata": {},
   "outputs": [
    {
     "data": {
      "image/png": "[encoded data removed]",
      "text/plain": [
       "<Figure size 576x396 with 1 Axes>"
      ]
     },
     "metadata": {},
     "output_type": "display_data"
    }
   ],
   "source": [
    "sns.histplot(binwidth=0.5, hue=\"race_White\", x=\"income_>50K\", data=df, stat=\"count\", multiple=\"stack\", \n",
    "             alpha=.5, palette=\"YlOrRd\");"
   ]
  },
  {
   "cell_type": "code",
   "execution_count": 28,
   "id": "1ec9a11a",
   "metadata": {
    "scrolled": false
   },
   "outputs": [
    {
     "data": {
      "image/png": "[encoded data removed]",
      "text/plain": [
       "<Figure size 576x396 with 1 Axes>"
      ]
     },
     "metadata": {},
     "output_type": "display_data"
    }
   ],
   "source": [
    "sns.countplot(x=df['civstatus_married'], palette=\"YlOrRd\", alpha=.5);"
   ]
  },
  {
   "cell_type": "code",
   "execution_count": 29,
   "id": "d9170134",
   "metadata": {},
   "outputs": [
    {
     "data": {
      "image/png": "[encoded data removed]",
      "text/plain": [
       "<Figure size 576x396 with 1 Axes>"
      ]
     },
     "metadata": {},
     "output_type": "display_data"
    }
   ],
   "source": [
    "sns.histplot(x=\"hours_per_week\", data=df[df[\"hours_per_week\"] < np.quantile(df[\"hours_per_week\"], 0.75)], \n",
    "             palette=\"YlOrRd\", alpha=.5, stat='density', common_norm=False);"
   ]
  },
  {
   "cell_type": "markdown",
   "id": "aff2b4dd",
   "metadata": {},
   "source": [
    "### Inspección de datos perdidos en las variables"
   ]
  },
  {
   "cell_type": "code",
   "execution_count": 30,
   "id": "6a60bc2a",
   "metadata": {},
   "outputs": [
    {
     "name": "stdout",
     "output_type": "stream",
     "text": [
      "No hay Datos Nulos encontrados\n"
     ]
    }
   ],
   "source": [
    "pyfunc.plot_nas(df)"
   ]
  },
  {
   "cell_type": "code",
   "execution_count": 31,
   "id": "0bbadc5e",
   "metadata": {},
   "outputs": [
    {
     "data": {
      "image/png": "[encoded data removed]",
      "text/plain": [
       "<Figure size 576x396 with 1 Axes>"
      ]
     },
     "metadata": {},
     "output_type": "display_data"
    }
   ],
   "source": [
    "sns.heatmap(df.isnull().transpose(), cbar=False, cbar_kws={'label': 'Missing Data'});"
   ]
  },
  {
   "cell_type": "markdown",
   "id": "6ab02b83",
   "metadata": {},
   "source": [
    "# Modelación descriptiva"
   ]
  },
  {
   "cell_type": "code",
   "execution_count": 32,
   "id": "0090443b",
   "metadata": {},
   "outputs": [],
   "source": [
    "df.rename(columns = {'income_>50K': 'more_than_50_t'}, inplace = True)"
   ]
  },
  {
   "cell_type": "markdown",
   "id": "6ccfd44e",
   "metadata": {},
   "source": [
    "La función \"get_best_model_OLS\" se utiliza para crear un modelo y luego iterar sobre él hasta que todas las variables independientes tengan un pvalue menor al especificado. Esto se hace con el fin de obtener un modelo limpio y eficiente, con el que se puedan realizar predicciones precisas. Además, la función también proporciona una tabla de resumen de los diferentes modelos que iteró, con sus métricas correspondientes, lo que facilita la comparación y análisis de los mismos."
   ]
  },
  {
   "cell_type": "code",
   "execution_count": 33,
   "id": "58d470cd",
   "metadata": {
    "scrolled": true
   },
   "outputs": [
    {
     "name": "stdout",
     "output_type": "stream",
     "text": [
      "Optimization terminated successfully.\n",
      "         Current function value: 0.324198\n",
      "         Iterations 11\n",
      "Optimization terminated successfully.\n",
      "         Current function value: 0.324360\n",
      "         Iterations 9\n",
      "Optimization terminated successfully.\n",
      "         Current function value: 0.324378\n",
      "         Iterations 9\n"
     ]
    }
   ],
   "source": [
    "logit_full, summary_table = pyfunc.get_best_model_L(df, 'more_than_50_t', ['more_than_50_t'], 0.05)"
   ]
  },
  {
   "cell_type": "code",
   "execution_count": 34,
   "id": "d78fa37f",
   "metadata": {},
   "outputs": [
    {
     "data": {
      "text/html": [
       "<div>\n",
       "<style scoped>\n",
       "    .dataframe tbody tr th:only-of-type {\n",
       "        vertical-align: middle;\n",
       "    }\n",
       "\n",
       "    .dataframe tbody tr th {\n",
       "        vertical-align: top;\n",
       "    }\n",
       "\n",
       "    .dataframe thead th {\n",
       "        text-align: right;\n",
       "    }\n",
       "</style>\n",
       "<table border=\"1\" class=\"dataframe\">\n",
       "  <thead>\n",
       "    <tr style=\"text-align: right;\">\n",
       "      <th></th>\n",
       "      <th>Model</th>\n",
       "      <th>Pseudo R- Squared</th>\n",
       "      <th>LL-Null</th>\n",
       "      <th>Log-Likelihood</th>\n",
       "      <th>LLR P-Value</th>\n",
       "      <th>Variables Indp.</th>\n",
       "      <th>Cant. Variables Mayor a pvalue0.05</th>\n",
       "    </tr>\n",
       "  </thead>\n",
       "  <tbody>\n",
       "    <tr>\n",
       "      <th>0</th>\n",
       "      <td>model1</td>\n",
       "      <td>0.411</td>\n",
       "      <td>-26875.340736</td>\n",
       "      <td>-15834.465637</td>\n",
       "      <td>0.0</td>\n",
       "      <td>32</td>\n",
       "      <td>9</td>\n",
       "    </tr>\n",
       "    <tr>\n",
       "      <th>1</th>\n",
       "      <td>model2</td>\n",
       "      <td>0.411</td>\n",
       "      <td>-26875.340736</td>\n",
       "      <td>-15842.376681</td>\n",
       "      <td>0.0</td>\n",
       "      <td>23</td>\n",
       "      <td>1</td>\n",
       "    </tr>\n",
       "    <tr>\n",
       "      <th>2</th>\n",
       "      <td>model3</td>\n",
       "      <td>0.410</td>\n",
       "      <td>-26875.340736</td>\n",
       "      <td>-15843.287629</td>\n",
       "      <td>0.0</td>\n",
       "      <td>22</td>\n",
       "      <td>0</td>\n",
       "    </tr>\n",
       "  </tbody>\n",
       "</table>\n",
       "</div>"
      ],
      "text/plain": [
       "    Model  Pseudo R- Squared       LL-Null  Log-Likelihood  LLR P-Value  \\\n",
       "0  model1              0.411 -26875.340736   -15834.465637          0.0   \n",
       "1  model2              0.411 -26875.340736   -15842.376681          0.0   \n",
       "2  model3              0.410 -26875.340736   -15843.287629          0.0   \n",
       "\n",
       "   Variables Indp.  Cant. Variables Mayor a pvalue0.05  \n",
       "0               32                                   9  \n",
       "1               23                                   1  \n",
       "2               22                                   0  "
      ]
     },
     "execution_count": 34,
     "metadata": {},
     "output_type": "execute_result"
    }
   ],
   "source": [
    "summary_table #la función también se hizó que entregará una tabla de resumen de los modelos en los que iteró."
   ]
  },
  {
   "cell_type": "code",
   "execution_count": 35,
   "id": "5abb25e6",
   "metadata": {},
   "outputs": [
    {
     "data": {
      "text/html": [
       "<table class=\"simpletable\">\n",
       "<caption>Logit Regression Results</caption>\n",
       "<tr>\n",
       "  <th>Dep. Variable:</th>    <td>more_than_50_t</td>  <th>  No. Observations:  </th>  <td> 48842</td> \n",
       "</tr>\n",
       "<tr>\n",
       "  <th>Model:</th>                 <td>Logit</td>      <th>  Df Residuals:      </th>  <td> 48819</td> \n",
       "</tr>\n",
       "<tr>\n",
       "  <th>Method:</th>                 <td>MLE</td>       <th>  Df Model:          </th>  <td>    22</td> \n",
       "</tr>\n",
       "<tr>\n",
       "  <th>Date:</th>            <td>Sun, 25 Dec 2022</td> <th>  Pseudo R-squ.:     </th>  <td>0.4105</td> \n",
       "</tr>\n",
       "<tr>\n",
       "  <th>Time:</th>                <td>22:26:09</td>     <th>  Log-Likelihood:    </th> <td> -15843.</td>\n",
       "</tr>\n",
       "<tr>\n",
       "  <th>converged:</th>             <td>True</td>       <th>  LL-Null:           </th> <td> -26875.</td>\n",
       "</tr>\n",
       "<tr>\n",
       "  <th>Covariance Type:</th>     <td>nonrobust</td>    <th>  LLR p-value:       </th>  <td> 0.000</td> \n",
       "</tr>\n",
       "</table>\n",
       "<table class=\"simpletable\">\n",
       "<tr>\n",
       "                <td></td>                   <th>coef</th>     <th>std err</th>      <th>z</th>      <th>P>|z|</th>  <th>[0.025</th>    <th>0.975]</th>  \n",
       "</tr>\n",
       "<tr>\n",
       "  <th>Intercept</th>                     <td>   -8.2836</td> <td>    0.188</td> <td>  -43.993</td> <td> 0.000</td> <td>   -8.653</td> <td>   -7.915</td>\n",
       "</tr>\n",
       "<tr>\n",
       "  <th>age</th>                           <td>    0.0229</td> <td>    0.001</td> <td>   18.069</td> <td> 0.000</td> <td>    0.020</td> <td>    0.025</td>\n",
       "</tr>\n",
       "<tr>\n",
       "  <th>educational_num</th>               <td>    0.2889</td> <td>    0.007</td> <td>   42.345</td> <td> 0.000</td> <td>    0.276</td> <td>    0.302</td>\n",
       "</tr>\n",
       "<tr>\n",
       "  <th>capital_gain</th>                  <td>    0.0003</td> <td> 8.33e-06</td> <td>   37.945</td> <td> 0.000</td> <td>    0.000</td> <td>    0.000</td>\n",
       "</tr>\n",
       "<tr>\n",
       "  <th>capital_loss</th>                  <td>    0.0007</td> <td> 2.97e-05</td> <td>   21.944</td> <td> 0.000</td> <td>    0.001</td> <td>    0.001</td>\n",
       "</tr>\n",
       "<tr>\n",
       "  <th>hours_per_week</th>                <td>    0.0308</td> <td>    0.001</td> <td>   24.564</td> <td> 0.000</td> <td>    0.028</td> <td>    0.033</td>\n",
       "</tr>\n",
       "<tr>\n",
       "  <th>workclass_recod_federal_gov</th>   <td>    0.4790</td> <td>    0.073</td> <td>    6.518</td> <td> 0.000</td> <td>    0.335</td> <td>    0.623</td>\n",
       "</tr>\n",
       "<tr>\n",
       "  <th>workclass_recod_self_employed</th> <td>   -0.3083</td> <td>    0.041</td> <td>   -7.546</td> <td> 0.000</td> <td>   -0.388</td> <td>   -0.228</td>\n",
       "</tr>\n",
       "<tr>\n",
       "  <th>civstatus_divorced</th>            <td>    0.4958</td> <td>    0.071</td> <td>    7.022</td> <td> 0.000</td> <td>    0.357</td> <td>    0.634</td>\n",
       "</tr>\n",
       "<tr>\n",
       "  <th>civstatus_married</th>             <td>    1.2636</td> <td>    0.131</td> <td>    9.668</td> <td> 0.000</td> <td>    1.007</td> <td>    1.520</td>\n",
       "</tr>\n",
       "<tr>\n",
       "  <th>civstatus_separated</th>           <td>    0.4246</td> <td>    0.133</td> <td>    3.195</td> <td> 0.001</td> <td>    0.164</td> <td>    0.685</td>\n",
       "</tr>\n",
       "<tr>\n",
       "  <th>civstatus_widowed</th>             <td>    0.5368</td> <td>    0.128</td> <td>    4.189</td> <td> 0.000</td> <td>    0.286</td> <td>    0.788</td>\n",
       "</tr>\n",
       "<tr>\n",
       "  <th>collars_blue_collar</th>           <td>   -0.2312</td> <td>    0.046</td> <td>   -4.973</td> <td> 0.000</td> <td>   -0.322</td> <td>   -0.140</td>\n",
       "</tr>\n",
       "<tr>\n",
       "  <th>collars_others</th>                <td>   -0.7822</td> <td>    0.088</td> <td>   -8.926</td> <td> 0.000</td> <td>   -0.954</td> <td>   -0.610</td>\n",
       "</tr>\n",
       "<tr>\n",
       "  <th>collars_white_collar</th>          <td>    0.5594</td> <td>    0.040</td> <td>   13.926</td> <td> 0.000</td> <td>    0.481</td> <td>    0.638</td>\n",
       "</tr>\n",
       "<tr>\n",
       "  <th>relationship_Not_in_family</th>    <td>   -0.9747</td> <td>    0.128</td> <td>   -7.621</td> <td> 0.000</td> <td>   -1.225</td> <td>   -0.724</td>\n",
       "</tr>\n",
       "<tr>\n",
       "  <th>relationship_Other_relative</th>   <td>   -1.5054</td> <td>    0.183</td> <td>   -8.221</td> <td> 0.000</td> <td>   -1.864</td> <td>   -1.146</td>\n",
       "</tr>\n",
       "<tr>\n",
       "  <th>relationship_Own_child</th>        <td>   -1.9716</td> <td>    0.160</td> <td>  -12.306</td> <td> 0.000</td> <td>   -2.286</td> <td>   -1.658</td>\n",
       "</tr>\n",
       "<tr>\n",
       "  <th>relationship_Unmarried</th>        <td>   -1.2192</td> <td>    0.145</td> <td>   -8.411</td> <td> 0.000</td> <td>   -1.503</td> <td>   -0.935</td>\n",
       "</tr>\n",
       "<tr>\n",
       "  <th>relationship_Wife</th>             <td>    1.0391</td> <td>    0.081</td> <td>   12.768</td> <td> 0.000</td> <td>    0.880</td> <td>    1.199</td>\n",
       "</tr>\n",
       "<tr>\n",
       "  <th>race_White</th>                    <td>    0.2155</td> <td>    0.047</td> <td>    4.592</td> <td> 0.000</td> <td>    0.123</td> <td>    0.307</td>\n",
       "</tr>\n",
       "<tr>\n",
       "  <th>gender_Male</th>                   <td>    0.7913</td> <td>    0.063</td> <td>   12.621</td> <td> 0.000</td> <td>    0.668</td> <td>    0.914</td>\n",
       "</tr>\n",
       "<tr>\n",
       "  <th>region_Europa</th>                 <td>    0.2221</td> <td>    0.105</td> <td>    2.125</td> <td> 0.034</td> <td>    0.017</td> <td>    0.427</td>\n",
       "</tr>\n",
       "</table>"
      ],
      "text/plain": [
       "<class 'statsmodels.iolib.summary.Summary'>\n",
       "\"\"\"\n",
       "                           Logit Regression Results                           \n",
       "==============================================================================\n",
       "Dep. Variable:         more_than_50_t   No. Observations:                48842\n",
       "Model:                          Logit   Df Residuals:                    48819\n",
       "Method:                           MLE   Df Model:                           22\n",
       "Date:                Sun, 25 Dec 2022   Pseudo R-squ.:                  0.4105\n",
       "Time:                        22:26:09   Log-Likelihood:                -15843.\n",
       "converged:                       True   LL-Null:                       -26875.\n",
       "Covariance Type:            nonrobust   LLR p-value:                     0.000\n",
       "=================================================================================================\n",
       "                                    coef    std err          z      P>|z|      [0.025      0.975]\n",
       "-------------------------------------------------------------------------------------------------\n",
       "Intercept                        -8.2836      0.188    -43.993      0.000      -8.653      -7.915\n",
       "age                               0.0229      0.001     18.069      0.000       0.020       0.025\n",
       "educational_num                   0.2889      0.007     42.345      0.000       0.276       0.302\n",
       "capital_gain                      0.0003   8.33e-06     37.945      0.000       0.000       0.000\n",
       "capital_loss                      0.0007   2.97e-05     21.944      0.000       0.001       0.001\n",
       "hours_per_week                    0.0308      0.001     24.564      0.000       0.028       0.033\n",
       "workclass_recod_federal_gov       0.4790      0.073      6.518      0.000       0.335       0.623\n",
       "workclass_recod_self_employed    -0.3083      0.041     -7.546      0.000      -0.388      -0.228\n",
       "civstatus_divorced                0.4958      0.071      7.022      0.000       0.357       0.634\n",
       "civstatus_married                 1.2636      0.131      9.668      0.000       1.007       1.520\n",
       "civstatus_separated               0.4246      0.133      3.195      0.001       0.164       0.685\n",
       "civstatus_widowed                 0.5368      0.128      4.189      0.000       0.286       0.788\n",
       "collars_blue_collar              -0.2312      0.046     -4.973      0.000      -0.322      -0.140\n",
       "collars_others                   -0.7822      0.088     -8.926      0.000      -0.954      -0.610\n",
       "collars_white_collar              0.5594      0.040     13.926      0.000       0.481       0.638\n",
       "relationship_Not_in_family       -0.9747      0.128     -7.621      0.000      -1.225      -0.724\n",
       "relationship_Other_relative      -1.5054      0.183     -8.221      0.000      -1.864      -1.146\n",
       "relationship_Own_child           -1.9716      0.160    -12.306      0.000      -2.286      -1.658\n",
       "relationship_Unmarried           -1.2192      0.145     -8.411      0.000      -1.503      -0.935\n",
       "relationship_Wife                 1.0391      0.081     12.768      0.000       0.880       1.199\n",
       "race_White                        0.2155      0.047      4.592      0.000       0.123       0.307\n",
       "gender_Male                       0.7913      0.063     12.621      0.000       0.668       0.914\n",
       "region_Europa                     0.2221      0.105      2.125      0.034       0.017       0.427\n",
       "=================================================================================================\n",
       "\"\"\""
      ]
     },
     "execution_count": 35,
     "metadata": {},
     "output_type": "execute_result"
    }
   ],
   "source": [
    "logit_full.summary()"
   ]
  },
  {
   "cell_type": "markdown",
   "id": "677d3705",
   "metadata": {},
   "source": [
    "### Ahora probamos un modelo estandarizado"
   ]
  },
  {
   "cell_type": "markdown",
   "id": "a4264db7",
   "metadata": {},
   "source": [
    "Si revisamos df.info podemos ver que las variables binarias ocupan un tipo de dato uint8, hacemos un arr con los nombres de estas."
   ]
  },
  {
   "cell_type": "code",
   "execution_count": 36,
   "id": "d35d271f",
   "metadata": {},
   "outputs": [],
   "source": [
    "binary_vars = [x for x in df if df[x].dtype == 'uint8']"
   ]
  },
  {
   "cell_type": "code",
   "execution_count": 37,
   "id": "1696b78a",
   "metadata": {},
   "outputs": [],
   "source": [
    "zscore = lambda x: (x - x.mean())/x.std()"
   ]
  },
  {
   "cell_type": "markdown",
   "id": "5b83b105",
   "metadata": {},
   "source": [
    "Con esto lo que hicimos fue estandarizar solamente las variables __no binarias__ y las binarias dejarlas tal como estan, ya que por su naturaleza ya estan en una forma estandarizada"
   ]
  },
  {
   "cell_type": "code",
   "execution_count": 38,
   "id": "4d7b810e",
   "metadata": {
    "scrolled": true
   },
   "outputs": [
    {
     "data": {
      "text/html": [
       "<div>\n",
       "<style scoped>\n",
       "    .dataframe tbody tr th:only-of-type {\n",
       "        vertical-align: middle;\n",
       "    }\n",
       "\n",
       "    .dataframe tbody tr th {\n",
       "        vertical-align: top;\n",
       "    }\n",
       "\n",
       "    .dataframe thead th {\n",
       "        text-align: right;\n",
       "    }\n",
       "</style>\n",
       "<table border=\"1\" class=\"dataframe\">\n",
       "  <thead>\n",
       "    <tr style=\"text-align: right;\">\n",
       "      <th></th>\n",
       "      <th>age</th>\n",
       "      <th>educational_num</th>\n",
       "      <th>capital_gain</th>\n",
       "      <th>capital_loss</th>\n",
       "      <th>hours_per_week</th>\n",
       "      <th>workclass_recod_federal_gov</th>\n",
       "      <th>workclass_recod_self_employed</th>\n",
       "      <th>workclass_recod_state_level_gov</th>\n",
       "      <th>workclass_recod_unemployed</th>\n",
       "      <th>educ_recod_elementary_school</th>\n",
       "      <th>...</th>\n",
       "      <th>relationship_Unmarried</th>\n",
       "      <th>relationship_Wife</th>\n",
       "      <th>race_Asian_Pac_Islander</th>\n",
       "      <th>race_Black</th>\n",
       "      <th>race_Other</th>\n",
       "      <th>race_White</th>\n",
       "      <th>gender_Male</th>\n",
       "      <th>region_Asia</th>\n",
       "      <th>region_Europa</th>\n",
       "      <th>more_than_50_t</th>\n",
       "    </tr>\n",
       "  </thead>\n",
       "  <tbody>\n",
       "    <tr>\n",
       "      <th>0</th>\n",
       "      <td>-0.995119</td>\n",
       "      <td>-1.197247</td>\n",
       "      <td>-0.144802</td>\n",
       "      <td>-0.217125</td>\n",
       "      <td>-0.034087</td>\n",
       "      <td>0</td>\n",
       "      <td>0</td>\n",
       "      <td>0</td>\n",
       "      <td>0</td>\n",
       "      <td>0</td>\n",
       "      <td>...</td>\n",
       "      <td>0</td>\n",
       "      <td>0</td>\n",
       "      <td>0</td>\n",
       "      <td>1</td>\n",
       "      <td>0</td>\n",
       "      <td>0</td>\n",
       "      <td>1</td>\n",
       "      <td>0</td>\n",
       "      <td>0</td>\n",
       "      <td>0</td>\n",
       "    </tr>\n",
       "    <tr>\n",
       "      <th>1</th>\n",
       "      <td>-0.046941</td>\n",
       "      <td>-0.419331</td>\n",
       "      <td>-0.144802</td>\n",
       "      <td>-0.217125</td>\n",
       "      <td>0.772922</td>\n",
       "      <td>0</td>\n",
       "      <td>0</td>\n",
       "      <td>0</td>\n",
       "      <td>0</td>\n",
       "      <td>0</td>\n",
       "      <td>...</td>\n",
       "      <td>0</td>\n",
       "      <td>0</td>\n",
       "      <td>0</td>\n",
       "      <td>0</td>\n",
       "      <td>0</td>\n",
       "      <td>1</td>\n",
       "      <td>1</td>\n",
       "      <td>0</td>\n",
       "      <td>0</td>\n",
       "      <td>0</td>\n",
       "    </tr>\n",
       "    <tr>\n",
       "      <th>2</th>\n",
       "      <td>-0.776309</td>\n",
       "      <td>0.747543</td>\n",
       "      <td>-0.144802</td>\n",
       "      <td>-0.217125</td>\n",
       "      <td>-0.034087</td>\n",
       "      <td>0</td>\n",
       "      <td>0</td>\n",
       "      <td>1</td>\n",
       "      <td>0</td>\n",
       "      <td>0</td>\n",
       "      <td>...</td>\n",
       "      <td>0</td>\n",
       "      <td>0</td>\n",
       "      <td>0</td>\n",
       "      <td>0</td>\n",
       "      <td>0</td>\n",
       "      <td>1</td>\n",
       "      <td>1</td>\n",
       "      <td>0</td>\n",
       "      <td>0</td>\n",
       "      <td>1</td>\n",
       "    </tr>\n",
       "    <tr>\n",
       "      <th>3</th>\n",
       "      <td>0.390679</td>\n",
       "      <td>-0.030373</td>\n",
       "      <td>0.886865</td>\n",
       "      <td>-0.217125</td>\n",
       "      <td>-0.034087</td>\n",
       "      <td>0</td>\n",
       "      <td>0</td>\n",
       "      <td>0</td>\n",
       "      <td>0</td>\n",
       "      <td>0</td>\n",
       "      <td>...</td>\n",
       "      <td>0</td>\n",
       "      <td>0</td>\n",
       "      <td>0</td>\n",
       "      <td>1</td>\n",
       "      <td>0</td>\n",
       "      <td>0</td>\n",
       "      <td>1</td>\n",
       "      <td>0</td>\n",
       "      <td>0</td>\n",
       "      <td>1</td>\n",
       "    </tr>\n",
       "    <tr>\n",
       "      <th>4</th>\n",
       "      <td>-1.505676</td>\n",
       "      <td>-0.030373</td>\n",
       "      <td>-0.144802</td>\n",
       "      <td>-0.217125</td>\n",
       "      <td>-0.841095</td>\n",
       "      <td>0</td>\n",
       "      <td>0</td>\n",
       "      <td>0</td>\n",
       "      <td>0</td>\n",
       "      <td>0</td>\n",
       "      <td>...</td>\n",
       "      <td>0</td>\n",
       "      <td>0</td>\n",
       "      <td>0</td>\n",
       "      <td>0</td>\n",
       "      <td>0</td>\n",
       "      <td>1</td>\n",
       "      <td>0</td>\n",
       "      <td>0</td>\n",
       "      <td>0</td>\n",
       "      <td>0</td>\n",
       "    </tr>\n",
       "    <tr>\n",
       "      <th>...</th>\n",
       "      <td>...</td>\n",
       "      <td>...</td>\n",
       "      <td>...</td>\n",
       "      <td>...</td>\n",
       "      <td>...</td>\n",
       "      <td>...</td>\n",
       "      <td>...</td>\n",
       "      <td>...</td>\n",
       "      <td>...</td>\n",
       "      <td>...</td>\n",
       "      <td>...</td>\n",
       "      <td>...</td>\n",
       "      <td>...</td>\n",
       "      <td>...</td>\n",
       "      <td>...</td>\n",
       "      <td>...</td>\n",
       "      <td>...</td>\n",
       "      <td>...</td>\n",
       "      <td>...</td>\n",
       "      <td>...</td>\n",
       "      <td>...</td>\n",
       "    </tr>\n",
       "    <tr>\n",
       "      <th>48837</th>\n",
       "      <td>-0.849245</td>\n",
       "      <td>0.747543</td>\n",
       "      <td>-0.144802</td>\n",
       "      <td>-0.217125</td>\n",
       "      <td>-0.195488</td>\n",
       "      <td>0</td>\n",
       "      <td>0</td>\n",
       "      <td>0</td>\n",
       "      <td>0</td>\n",
       "      <td>0</td>\n",
       "      <td>...</td>\n",
       "      <td>0</td>\n",
       "      <td>1</td>\n",
       "      <td>0</td>\n",
       "      <td>0</td>\n",
       "      <td>0</td>\n",
       "      <td>1</td>\n",
       "      <td>0</td>\n",
       "      <td>0</td>\n",
       "      <td>0</td>\n",
       "      <td>0</td>\n",
       "    </tr>\n",
       "    <tr>\n",
       "      <th>48838</th>\n",
       "      <td>0.098932</td>\n",
       "      <td>-0.419331</td>\n",
       "      <td>-0.144802</td>\n",
       "      <td>-0.217125</td>\n",
       "      <td>-0.034087</td>\n",
       "      <td>0</td>\n",
       "      <td>0</td>\n",
       "      <td>0</td>\n",
       "      <td>0</td>\n",
       "      <td>0</td>\n",
       "      <td>...</td>\n",
       "      <td>0</td>\n",
       "      <td>0</td>\n",
       "      <td>0</td>\n",
       "      <td>0</td>\n",
       "      <td>0</td>\n",
       "      <td>1</td>\n",
       "      <td>1</td>\n",
       "      <td>0</td>\n",
       "      <td>0</td>\n",
       "      <td>1</td>\n",
       "    </tr>\n",
       "    <tr>\n",
       "      <th>48839</th>\n",
       "      <td>1.411794</td>\n",
       "      <td>-0.419331</td>\n",
       "      <td>-0.144802</td>\n",
       "      <td>-0.217125</td>\n",
       "      <td>-0.034087</td>\n",
       "      <td>0</td>\n",
       "      <td>0</td>\n",
       "      <td>0</td>\n",
       "      <td>0</td>\n",
       "      <td>0</td>\n",
       "      <td>...</td>\n",
       "      <td>1</td>\n",
       "      <td>0</td>\n",
       "      <td>0</td>\n",
       "      <td>0</td>\n",
       "      <td>0</td>\n",
       "      <td>1</td>\n",
       "      <td>0</td>\n",
       "      <td>0</td>\n",
       "      <td>0</td>\n",
       "      <td>0</td>\n",
       "    </tr>\n",
       "    <tr>\n",
       "      <th>48840</th>\n",
       "      <td>-1.213929</td>\n",
       "      <td>-0.419331</td>\n",
       "      <td>-0.144802</td>\n",
       "      <td>-0.217125</td>\n",
       "      <td>-1.648104</td>\n",
       "      <td>0</td>\n",
       "      <td>0</td>\n",
       "      <td>0</td>\n",
       "      <td>0</td>\n",
       "      <td>0</td>\n",
       "      <td>...</td>\n",
       "      <td>0</td>\n",
       "      <td>0</td>\n",
       "      <td>0</td>\n",
       "      <td>0</td>\n",
       "      <td>0</td>\n",
       "      <td>1</td>\n",
       "      <td>1</td>\n",
       "      <td>0</td>\n",
       "      <td>0</td>\n",
       "      <td>0</td>\n",
       "    </tr>\n",
       "    <tr>\n",
       "      <th>48841</th>\n",
       "      <td>0.974173</td>\n",
       "      <td>-0.419331</td>\n",
       "      <td>1.871296</td>\n",
       "      <td>-0.217125</td>\n",
       "      <td>-0.034087</td>\n",
       "      <td>0</td>\n",
       "      <td>1</td>\n",
       "      <td>0</td>\n",
       "      <td>0</td>\n",
       "      <td>0</td>\n",
       "      <td>...</td>\n",
       "      <td>0</td>\n",
       "      <td>1</td>\n",
       "      <td>0</td>\n",
       "      <td>0</td>\n",
       "      <td>0</td>\n",
       "      <td>1</td>\n",
       "      <td>0</td>\n",
       "      <td>0</td>\n",
       "      <td>0</td>\n",
       "      <td>1</td>\n",
       "    </tr>\n",
       "  </tbody>\n",
       "</table>\n",
       "<p>48842 rows × 33 columns</p>\n",
       "</div>"
      ],
      "text/plain": [
       "            age  educational_num  capital_gain  capital_loss  hours_per_week  \\\n",
       "0     -0.995119        -1.197247     -0.144802     -0.217125       -0.034087   \n",
       "1     -0.046941        -0.419331     -0.144802     -0.217125        0.772922   \n",
       "2     -0.776309         0.747543     -0.144802     -0.217125       -0.034087   \n",
       "3      0.390679        -0.030373      0.886865     -0.217125       -0.034087   \n",
       "4     -1.505676        -0.030373     -0.144802     -0.217125       -0.841095   \n",
       "...         ...              ...           ...           ...             ...   \n",
       "48837 -0.849245         0.747543     -0.144802     -0.217125       -0.195488   \n",
       "48838  0.098932        -0.419331     -0.144802     -0.217125       -0.034087   \n",
       "48839  1.411794        -0.419331     -0.144802     -0.217125       -0.034087   \n",
       "48840 -1.213929        -0.419331     -0.144802     -0.217125       -1.648104   \n",
       "48841  0.974173        -0.419331      1.871296     -0.217125       -0.034087   \n",
       "\n",
       "       workclass_recod_federal_gov  workclass_recod_self_employed  \\\n",
       "0                                0                              0   \n",
       "1                                0                              0   \n",
       "2                                0                              0   \n",
       "3                                0                              0   \n",
       "4                                0                              0   \n",
       "...                            ...                            ...   \n",
       "48837                            0                              0   \n",
       "48838                            0                              0   \n",
       "48839                            0                              0   \n",
       "48840                            0                              0   \n",
       "48841                            0                              1   \n",
       "\n",
       "       workclass_recod_state_level_gov  workclass_recod_unemployed  \\\n",
       "0                                    0                           0   \n",
       "1                                    0                           0   \n",
       "2                                    1                           0   \n",
       "3                                    0                           0   \n",
       "4                                    0                           0   \n",
       "...                                ...                         ...   \n",
       "48837                                0                           0   \n",
       "48838                                0                           0   \n",
       "48839                                0                           0   \n",
       "48840                                0                           0   \n",
       "48841                                0                           0   \n",
       "\n",
       "       educ_recod_elementary_school  ...  relationship_Unmarried  \\\n",
       "0                                 0  ...                       0   \n",
       "1                                 0  ...                       0   \n",
       "2                                 0  ...                       0   \n",
       "3                                 0  ...                       0   \n",
       "4                                 0  ...                       0   \n",
       "...                             ...  ...                     ...   \n",
       "48837                             0  ...                       0   \n",
       "48838                             0  ...                       0   \n",
       "48839                             0  ...                       1   \n",
       "48840                             0  ...                       0   \n",
       "48841                             0  ...                       0   \n",
       "\n",
       "       relationship_Wife  race_Asian_Pac_Islander  race_Black  race_Other  \\\n",
       "0                      0                        0           1           0   \n",
       "1                      0                        0           0           0   \n",
       "2                      0                        0           0           0   \n",
       "3                      0                        0           1           0   \n",
       "4                      0                        0           0           0   \n",
       "...                  ...                      ...         ...         ...   \n",
       "48837                  1                        0           0           0   \n",
       "48838                  0                        0           0           0   \n",
       "48839                  0                        0           0           0   \n",
       "48840                  0                        0           0           0   \n",
       "48841                  1                        0           0           0   \n",
       "\n",
       "       race_White  gender_Male  region_Asia  region_Europa  more_than_50_t  \n",
       "0               0            1            0              0               0  \n",
       "1               1            1            0              0               0  \n",
       "2               1            1            0              0               1  \n",
       "3               0            1            0              0               1  \n",
       "4               1            0            0              0               0  \n",
       "...           ...          ...          ...            ...             ...  \n",
       "48837           1            0            0              0               0  \n",
       "48838           1            1            0              0               1  \n",
       "48839           1            0            0              0               0  \n",
       "48840           1            1            0              0               0  \n",
       "48841           1            0            0              0               1  \n",
       "\n",
       "[48842 rows x 33 columns]"
      ]
     },
     "execution_count": 38,
     "metadata": {},
     "output_type": "execute_result"
    }
   ],
   "source": [
    "df_zscore = pd.DataFrame([zscore(x) for _, x in df.drop(columns = binary_vars).iteritems()]).T\n",
    "df_zscore = df_zscore.assign(**df[binary_vars])\n",
    "df_zscore"
   ]
  },
  {
   "cell_type": "code",
   "execution_count": 39,
   "id": "5cd17438",
   "metadata": {},
   "outputs": [
    {
     "name": "stdout",
     "output_type": "stream",
     "text": [
      "Optimization terminated successfully.\n",
      "         Current function value: 0.324198\n",
      "         Iterations 11\n",
      "Optimization terminated successfully.\n",
      "         Current function value: 0.324360\n",
      "         Iterations 9\n",
      "Optimization terminated successfully.\n",
      "         Current function value: 0.324378\n",
      "         Iterations 9\n"
     ]
    }
   ],
   "source": [
    "logit_full_std, summary_table_2 = pyfunc.get_best_model_L(df_zscore, 'more_than_50_t', ['more_than_50_t'], 0.05)"
   ]
  },
  {
   "cell_type": "code",
   "execution_count": 40,
   "id": "01191337",
   "metadata": {
    "scrolled": true
   },
   "outputs": [
    {
     "data": {
      "text/html": [
       "<div>\n",
       "<style scoped>\n",
       "    .dataframe tbody tr th:only-of-type {\n",
       "        vertical-align: middle;\n",
       "    }\n",
       "\n",
       "    .dataframe tbody tr th {\n",
       "        vertical-align: top;\n",
       "    }\n",
       "\n",
       "    .dataframe thead th {\n",
       "        text-align: right;\n",
       "    }\n",
       "</style>\n",
       "<table border=\"1\" class=\"dataframe\">\n",
       "  <thead>\n",
       "    <tr style=\"text-align: right;\">\n",
       "      <th></th>\n",
       "      <th>Model</th>\n",
       "      <th>Pseudo R- Squared</th>\n",
       "      <th>LL-Null</th>\n",
       "      <th>Log-Likelihood</th>\n",
       "      <th>LLR P-Value</th>\n",
       "      <th>Variables Indp.</th>\n",
       "      <th>Cant. Variables Mayor a pvalue0.05</th>\n",
       "    </tr>\n",
       "  </thead>\n",
       "  <tbody>\n",
       "    <tr>\n",
       "      <th>0</th>\n",
       "      <td>model1</td>\n",
       "      <td>0.411</td>\n",
       "      <td>-26875.340736</td>\n",
       "      <td>-15834.465637</td>\n",
       "      <td>0.0</td>\n",
       "      <td>32</td>\n",
       "      <td>9</td>\n",
       "    </tr>\n",
       "    <tr>\n",
       "      <th>1</th>\n",
       "      <td>model2</td>\n",
       "      <td>0.411</td>\n",
       "      <td>-26875.340736</td>\n",
       "      <td>-15842.376681</td>\n",
       "      <td>0.0</td>\n",
       "      <td>23</td>\n",
       "      <td>1</td>\n",
       "    </tr>\n",
       "    <tr>\n",
       "      <th>2</th>\n",
       "      <td>model3</td>\n",
       "      <td>0.410</td>\n",
       "      <td>-26875.340736</td>\n",
       "      <td>-15843.287629</td>\n",
       "      <td>0.0</td>\n",
       "      <td>22</td>\n",
       "      <td>0</td>\n",
       "    </tr>\n",
       "  </tbody>\n",
       "</table>\n",
       "</div>"
      ],
      "text/plain": [
       "    Model  Pseudo R- Squared       LL-Null  Log-Likelihood  LLR P-Value  \\\n",
       "0  model1              0.411 -26875.340736   -15834.465637          0.0   \n",
       "1  model2              0.411 -26875.340736   -15842.376681          0.0   \n",
       "2  model3              0.410 -26875.340736   -15843.287629          0.0   \n",
       "\n",
       "   Variables Indp.  Cant. Variables Mayor a pvalue0.05  \n",
       "0               32                                   9  \n",
       "1               23                                   1  \n",
       "2               22                                   0  "
      ]
     },
     "execution_count": 40,
     "metadata": {},
     "output_type": "execute_result"
    }
   ],
   "source": [
    "summary_table_2"
   ]
  },
  {
   "cell_type": "code",
   "execution_count": 41,
   "id": "aef5c446",
   "metadata": {},
   "outputs": [
    {
     "data": {
      "text/html": [
       "<table class=\"simpletable\">\n",
       "<caption>Logit Regression Results</caption>\n",
       "<tr>\n",
       "  <th>Dep. Variable:</th>    <td>more_than_50_t</td>  <th>  No. Observations:  </th>  <td> 48842</td> \n",
       "</tr>\n",
       "<tr>\n",
       "  <th>Model:</th>                 <td>Logit</td>      <th>  Df Residuals:      </th>  <td> 48819</td> \n",
       "</tr>\n",
       "<tr>\n",
       "  <th>Method:</th>                 <td>MLE</td>       <th>  Df Model:          </th>  <td>    22</td> \n",
       "</tr>\n",
       "<tr>\n",
       "  <th>Date:</th>            <td>Sun, 25 Dec 2022</td> <th>  Pseudo R-squ.:     </th>  <td>0.4105</td> \n",
       "</tr>\n",
       "<tr>\n",
       "  <th>Time:</th>                <td>22:26:10</td>     <th>  Log-Likelihood:    </th> <td> -15843.</td>\n",
       "</tr>\n",
       "<tr>\n",
       "  <th>converged:</th>             <td>True</td>       <th>  LL-Null:           </th> <td> -26875.</td>\n",
       "</tr>\n",
       "<tr>\n",
       "  <th>Covariance Type:</th>     <td>nonrobust</td>    <th>  LLR p-value:       </th>  <td> 0.000</td> \n",
       "</tr>\n",
       "</table>\n",
       "<table class=\"simpletable\">\n",
       "<tr>\n",
       "                <td></td>                   <th>coef</th>     <th>std err</th>      <th>z</th>      <th>P>|z|</th>  <th>[0.025</th>    <th>0.975]</th>  \n",
       "</tr>\n",
       "<tr>\n",
       "  <th>Intercept</th>                     <td>   -2.8440</td> <td>    0.157</td> <td>  -18.157</td> <td> 0.000</td> <td>   -3.151</td> <td>   -2.537</td>\n",
       "</tr>\n",
       "<tr>\n",
       "  <th>age</th>                           <td>    0.3141</td> <td>    0.017</td> <td>   18.069</td> <td> 0.000</td> <td>    0.280</td> <td>    0.348</td>\n",
       "</tr>\n",
       "<tr>\n",
       "  <th>educational_num</th>               <td>    0.7428</td> <td>    0.018</td> <td>   42.345</td> <td> 0.000</td> <td>    0.708</td> <td>    0.777</td>\n",
       "</tr>\n",
       "<tr>\n",
       "  <th>capital_gain</th>                  <td>    2.3544</td> <td>    0.062</td> <td>   37.945</td> <td> 0.000</td> <td>    2.233</td> <td>    2.476</td>\n",
       "</tr>\n",
       "<tr>\n",
       "  <th>capital_loss</th>                  <td>    0.2630</td> <td>    0.012</td> <td>   21.944</td> <td> 0.000</td> <td>    0.240</td> <td>    0.287</td>\n",
       "</tr>\n",
       "<tr>\n",
       "  <th>hours_per_week</th>                <td>    0.3816</td> <td>    0.016</td> <td>   24.564</td> <td> 0.000</td> <td>    0.351</td> <td>    0.412</td>\n",
       "</tr>\n",
       "<tr>\n",
       "  <th>workclass_recod_federal_gov</th>   <td>    0.4790</td> <td>    0.073</td> <td>    6.518</td> <td> 0.000</td> <td>    0.335</td> <td>    0.623</td>\n",
       "</tr>\n",
       "<tr>\n",
       "  <th>workclass_recod_self_employed</th> <td>   -0.3083</td> <td>    0.041</td> <td>   -7.546</td> <td> 0.000</td> <td>   -0.388</td> <td>   -0.228</td>\n",
       "</tr>\n",
       "<tr>\n",
       "  <th>civstatus_divorced</th>            <td>    0.4958</td> <td>    0.071</td> <td>    7.022</td> <td> 0.000</td> <td>    0.357</td> <td>    0.634</td>\n",
       "</tr>\n",
       "<tr>\n",
       "  <th>civstatus_married</th>             <td>    1.2636</td> <td>    0.131</td> <td>    9.668</td> <td> 0.000</td> <td>    1.007</td> <td>    1.520</td>\n",
       "</tr>\n",
       "<tr>\n",
       "  <th>civstatus_separated</th>           <td>    0.4246</td> <td>    0.133</td> <td>    3.195</td> <td> 0.001</td> <td>    0.164</td> <td>    0.685</td>\n",
       "</tr>\n",
       "<tr>\n",
       "  <th>civstatus_widowed</th>             <td>    0.5368</td> <td>    0.128</td> <td>    4.189</td> <td> 0.000</td> <td>    0.286</td> <td>    0.788</td>\n",
       "</tr>\n",
       "<tr>\n",
       "  <th>collars_blue_collar</th>           <td>   -0.2312</td> <td>    0.046</td> <td>   -4.973</td> <td> 0.000</td> <td>   -0.322</td> <td>   -0.140</td>\n",
       "</tr>\n",
       "<tr>\n",
       "  <th>collars_others</th>                <td>   -0.7822</td> <td>    0.088</td> <td>   -8.926</td> <td> 0.000</td> <td>   -0.954</td> <td>   -0.610</td>\n",
       "</tr>\n",
       "<tr>\n",
       "  <th>collars_white_collar</th>          <td>    0.5594</td> <td>    0.040</td> <td>   13.926</td> <td> 0.000</td> <td>    0.481</td> <td>    0.638</td>\n",
       "</tr>\n",
       "<tr>\n",
       "  <th>relationship_Not_in_family</th>    <td>   -0.9747</td> <td>    0.128</td> <td>   -7.621</td> <td> 0.000</td> <td>   -1.225</td> <td>   -0.724</td>\n",
       "</tr>\n",
       "<tr>\n",
       "  <th>relationship_Other_relative</th>   <td>   -1.5054</td> <td>    0.183</td> <td>   -8.221</td> <td> 0.000</td> <td>   -1.864</td> <td>   -1.146</td>\n",
       "</tr>\n",
       "<tr>\n",
       "  <th>relationship_Own_child</th>        <td>   -1.9716</td> <td>    0.160</td> <td>  -12.306</td> <td> 0.000</td> <td>   -2.286</td> <td>   -1.658</td>\n",
       "</tr>\n",
       "<tr>\n",
       "  <th>relationship_Unmarried</th>        <td>   -1.2192</td> <td>    0.145</td> <td>   -8.411</td> <td> 0.000</td> <td>   -1.503</td> <td>   -0.935</td>\n",
       "</tr>\n",
       "<tr>\n",
       "  <th>relationship_Wife</th>             <td>    1.0391</td> <td>    0.081</td> <td>   12.768</td> <td> 0.000</td> <td>    0.880</td> <td>    1.199</td>\n",
       "</tr>\n",
       "<tr>\n",
       "  <th>race_White</th>                    <td>    0.2155</td> <td>    0.047</td> <td>    4.592</td> <td> 0.000</td> <td>    0.123</td> <td>    0.307</td>\n",
       "</tr>\n",
       "<tr>\n",
       "  <th>gender_Male</th>                   <td>    0.7913</td> <td>    0.063</td> <td>   12.621</td> <td> 0.000</td> <td>    0.668</td> <td>    0.914</td>\n",
       "</tr>\n",
       "<tr>\n",
       "  <th>region_Europa</th>                 <td>    0.2221</td> <td>    0.105</td> <td>    2.125</td> <td> 0.034</td> <td>    0.017</td> <td>    0.427</td>\n",
       "</tr>\n",
       "</table>"
      ],
      "text/plain": [
       "<class 'statsmodels.iolib.summary.Summary'>\n",
       "\"\"\"\n",
       "                           Logit Regression Results                           \n",
       "==============================================================================\n",
       "Dep. Variable:         more_than_50_t   No. Observations:                48842\n",
       "Model:                          Logit   Df Residuals:                    48819\n",
       "Method:                           MLE   Df Model:                           22\n",
       "Date:                Sun, 25 Dec 2022   Pseudo R-squ.:                  0.4105\n",
       "Time:                        22:26:10   Log-Likelihood:                -15843.\n",
       "converged:                       True   LL-Null:                       -26875.\n",
       "Covariance Type:            nonrobust   LLR p-value:                     0.000\n",
       "=================================================================================================\n",
       "                                    coef    std err          z      P>|z|      [0.025      0.975]\n",
       "-------------------------------------------------------------------------------------------------\n",
       "Intercept                        -2.8440      0.157    -18.157      0.000      -3.151      -2.537\n",
       "age                               0.3141      0.017     18.069      0.000       0.280       0.348\n",
       "educational_num                   0.7428      0.018     42.345      0.000       0.708       0.777\n",
       "capital_gain                      2.3544      0.062     37.945      0.000       2.233       2.476\n",
       "capital_loss                      0.2630      0.012     21.944      0.000       0.240       0.287\n",
       "hours_per_week                    0.3816      0.016     24.564      0.000       0.351       0.412\n",
       "workclass_recod_federal_gov       0.4790      0.073      6.518      0.000       0.335       0.623\n",
       "workclass_recod_self_employed    -0.3083      0.041     -7.546      0.000      -0.388      -0.228\n",
       "civstatus_divorced                0.4958      0.071      7.022      0.000       0.357       0.634\n",
       "civstatus_married                 1.2636      0.131      9.668      0.000       1.007       1.520\n",
       "civstatus_separated               0.4246      0.133      3.195      0.001       0.164       0.685\n",
       "civstatus_widowed                 0.5368      0.128      4.189      0.000       0.286       0.788\n",
       "collars_blue_collar              -0.2312      0.046     -4.973      0.000      -0.322      -0.140\n",
       "collars_others                   -0.7822      0.088     -8.926      0.000      -0.954      -0.610\n",
       "collars_white_collar              0.5594      0.040     13.926      0.000       0.481       0.638\n",
       "relationship_Not_in_family       -0.9747      0.128     -7.621      0.000      -1.225      -0.724\n",
       "relationship_Other_relative      -1.5054      0.183     -8.221      0.000      -1.864      -1.146\n",
       "relationship_Own_child           -1.9716      0.160    -12.306      0.000      -2.286      -1.658\n",
       "relationship_Unmarried           -1.2192      0.145     -8.411      0.000      -1.503      -0.935\n",
       "relationship_Wife                 1.0391      0.081     12.768      0.000       0.880       1.199\n",
       "race_White                        0.2155      0.047      4.592      0.000       0.123       0.307\n",
       "gender_Male                       0.7913      0.063     12.621      0.000       0.668       0.914\n",
       "region_Europa                     0.2221      0.105      2.125      0.034       0.017       0.427\n",
       "=================================================================================================\n",
       "\"\"\""
      ]
     },
     "execution_count": 41,
     "metadata": {},
     "output_type": "execute_result"
    }
   ],
   "source": [
    "logit_full_std.summary()"
   ]
  },
  {
   "cell_type": "markdown",
   "id": "d0a41638",
   "metadata": {},
   "source": [
    "Podemos ver que las métricas, desde una perspectiva econométrica, con las que se miden el rendimiento no varían de forma relevante al usar o no estandarización. Ahora comprobaremos cómo afecta esto desde una perspectiva del aprendizaje automático."
   ]
  },
  {
   "cell_type": "markdown",
   "id": "f96b6f4c",
   "metadata": {},
   "source": [
    "# Modelación predictiva"
   ]
  },
  {
   "cell_type": "markdown",
   "id": "2863f550",
   "metadata": {},
   "source": [
    "Datos sin estandarizar"
   ]
  },
  {
   "cell_type": "code",
   "execution_count": 42,
   "id": "85ae2d73",
   "metadata": {},
   "outputs": [],
   "source": [
    "y_vec= df.loc[:, 'more_than_50_t'] #columna de la var dependiente\n",
    "X_mat = df.loc[:, logit_full.params.drop('Intercept').keys()] #columnas con la data menos la dependiente\n",
    "\n",
    "X_train, X_test, y_train, y_test = train_test_split(X_mat, y_vec, test_size=.33, random_state=11238)"
   ]
  },
  {
   "cell_type": "markdown",
   "id": "167f0ca0",
   "metadata": {},
   "source": [
    "Datos con variables no binarias estandarizadas"
   ]
  },
  {
   "cell_type": "code",
   "execution_count": 43,
   "id": "ba772519",
   "metadata": {},
   "outputs": [],
   "source": [
    "y_vec_2 = df_zscore.loc[:, 'more_than_50_t'] #columna de la var dependiente\n",
    "X_mat_2 = df_zscore.loc[:, logit_full_std.params.drop('Intercept').keys()] #columnas con la data menos la dependiente\n",
    "\n",
    "X_train_2, X_test_2, y_train_2, y_test_2 = train_test_split(X_mat_2, y_vec_2, test_size=.33, random_state=11238)"
   ]
  },
  {
   "cell_type": "markdown",
   "id": "d62031e6",
   "metadata": {},
   "source": [
    "## Modelo sin datos estandarizados"
   ]
  },
  {
   "cell_type": "code",
   "execution_count": 44,
   "id": "1a992e7b",
   "metadata": {},
   "outputs": [],
   "source": [
    "# iniciamos el modelo con la clase LogisticRegression y pasamos los datos en fit.\n",
    "default_model = LogisticRegression().fit(X_train, y_train)"
   ]
  },
  {
   "cell_type": "code",
   "execution_count": 45,
   "id": "c3775d99",
   "metadata": {},
   "outputs": [
    {
     "data": {
      "text/plain": [
       "array([0, 0, 0, 1, 1, 0, 0, 0, 0, 0, 0, 0, 0, 0, 0, 0, 0, 0, 0, 0],\n",
       "      dtype=uint8)"
      ]
     },
     "execution_count": 45,
     "metadata": {},
     "output_type": "execute_result"
    }
   ],
   "source": [
    "yhat = default_model.predict(X_test)\n",
    "# solicitemos las primeras 20 observaciones del vector predicho.\n",
    "yhat[:20]"
   ]
  },
  {
   "cell_type": "code",
   "execution_count": 46,
   "id": "52f2b5c6",
   "metadata": {},
   "outputs": [
    {
     "data": {
      "text/html": [
       "<div>\n",
       "<style scoped>\n",
       "    .dataframe tbody tr th:only-of-type {\n",
       "        vertical-align: middle;\n",
       "    }\n",
       "\n",
       "    .dataframe tbody tr th {\n",
       "        vertical-align: top;\n",
       "    }\n",
       "\n",
       "    .dataframe thead th {\n",
       "        text-align: right;\n",
       "    }\n",
       "</style>\n",
       "<table border=\"1\" class=\"dataframe\">\n",
       "  <thead>\n",
       "    <tr style=\"text-align: right;\">\n",
       "      <th>col_0</th>\n",
       "      <th>0</th>\n",
       "      <th>1</th>\n",
       "    </tr>\n",
       "    <tr>\n",
       "      <th>more_than_50_t</th>\n",
       "      <th></th>\n",
       "      <th></th>\n",
       "    </tr>\n",
       "  </thead>\n",
       "  <tbody>\n",
       "    <tr>\n",
       "      <th>0</th>\n",
       "      <td>11148</td>\n",
       "      <td>1100</td>\n",
       "    </tr>\n",
       "    <tr>\n",
       "      <th>1</th>\n",
       "      <td>1896</td>\n",
       "      <td>1974</td>\n",
       "    </tr>\n",
       "  </tbody>\n",
       "</table>\n",
       "</div>"
      ],
      "text/plain": [
       "col_0               0     1\n",
       "more_than_50_t             \n",
       "0               11148  1100\n",
       "1                1896  1974"
      ]
     },
     "execution_count": 46,
     "metadata": {},
     "output_type": "execute_result"
    }
   ],
   "source": [
    "m1_conf_pd = pd.crosstab(y_test, yhat)\n",
    "m1_conf_pd"
   ]
  },
  {
   "cell_type": "code",
   "execution_count": 47,
   "id": "84de9d99",
   "metadata": {},
   "outputs": [
    {
     "data": {
      "text/plain": [
       "0.8141208586673284"
      ]
     },
     "execution_count": 47,
     "metadata": {},
     "output_type": "execute_result"
    }
   ],
   "source": [
    "m1_acc = accuracy_score(y_test, yhat)\n",
    "m1_acc"
   ]
  },
  {
   "cell_type": "code",
   "execution_count": 48,
   "id": "fd591562",
   "metadata": {
    "scrolled": false
   },
   "outputs": [
    {
     "name": "stdout",
     "output_type": "stream",
     "text": [
      "Precision:  0.6421600520494469 \n",
      "Recall:  0.5100775193798449\n"
     ]
    }
   ],
   "source": [
    "m1_prec = precision_score(y_test, yhat) \n",
    "m1_rec = recall_score(y_test, yhat)\n",
    "print(\"Precision: \", m1_prec, \"\\nRecall: \", m1_rec)"
   ]
  },
  {
   "cell_type": "markdown",
   "id": "b551018b",
   "metadata": {},
   "source": [
    "__Interpretación__\n",
    "> __Precisión:__ De todas las veces que el modelo no estandarizado dijo que el individuo ganaba mas de 50 mil dólares, solo acertó el __64,21%__ de las veces\n",
    ">\n",
    "> __Recall:__ De todas las veces que el valor observado era un individuo con un salario mayor a 50 mil dólares, el modelo solo pudo acertar el __51%__ de las veces"
   ]
  },
  {
   "cell_type": "code",
   "execution_count": 49,
   "id": "2def46e8",
   "metadata": {
    "scrolled": true
   },
   "outputs": [
    {
     "name": "stdout",
     "output_type": "stream",
     "text": [
      "              precision    recall  f1-score   support\n",
      "\n",
      "           0       0.85      0.91      0.88     12248\n",
      "           1       0.64      0.51      0.57      3870\n",
      "\n",
      "    accuracy                           0.81     16118\n",
      "   macro avg       0.75      0.71      0.73     16118\n",
      "weighted avg       0.80      0.81      0.81     16118\n",
      "\n"
     ]
    }
   ],
   "source": [
    "print(classification_report(y_test, yhat))"
   ]
  },
  {
   "cell_type": "code",
   "execution_count": 50,
   "id": "11a2b08d",
   "metadata": {
    "scrolled": true
   },
   "outputs": [
    {
     "data": {
      "image/png": "[encoded data removed]",
      "text/plain": [
       "<Figure size 576x396 with 1 Axes>"
      ]
     },
     "metadata": {},
     "output_type": "display_data"
    }
   ],
   "source": [
    "# Reestimamos los valores predichos de nuestro modelo para obtener la probabilidad entre 0 y 1.\n",
    "yhat_p = default_model.predict_proba(X_test)[:, 1]\n",
    "# generamos los objetos de roc_cruve\n",
    "false_positive, true_positive, threshold = roc_curve(y_test, yhat_p)\n",
    "\n",
    "# Plot ROC curve\n",
    "plt.title('Curva ROC')\n",
    "plt.plot(false_positive, true_positive, lw=1)\n",
    "plt.plot([0, 1], ls=\"--\", lw=1)\n",
    "plt.plot([0, 0], [1, 0] , c='limegreen', lw=3), plt.plot([1, 1] ,\n",
    "c='limegreen', lw=3)\n",
    "plt.ylabel('Verdaderos Positivos')\n",
    "plt.xlabel('Falsos Positivos');"
   ]
  },
  {
   "cell_type": "code",
   "execution_count": 51,
   "id": "e0da8916",
   "metadata": {},
   "outputs": [
    {
     "data": {
      "text/plain": [
       "0.8496277512797533"
      ]
     },
     "execution_count": 51,
     "metadata": {},
     "output_type": "execute_result"
    }
   ],
   "source": [
    "from sklearn.metrics import roc_auc_score\n",
    "roc_auc_score(y_test, yhat_p)"
   ]
  },
  {
   "cell_type": "markdown",
   "id": "0ac108b0",
   "metadata": {},
   "source": [
    "## Modelo con datos estandarizados"
   ]
  },
  {
   "cell_type": "code",
   "execution_count": 52,
   "id": "af6493af",
   "metadata": {},
   "outputs": [
    {
     "data": {
      "text/plain": [
       "array([0, 0, 0, 1, 1, 0, 0, 1, 0, 0, 0, 0, 0, 0, 0, 0, 0, 0, 0, 0],\n",
       "      dtype=uint8)"
      ]
     },
     "execution_count": 52,
     "metadata": {},
     "output_type": "execute_result"
    }
   ],
   "source": [
    "ml_std_model = LogisticRegression().fit(X_train_2, y_train_2)\n",
    "yhat_2 = ml_std_model.predict(X_test_2)\n",
    "yhat_2[:20]"
   ]
  },
  {
   "cell_type": "code",
   "execution_count": 53,
   "id": "675ba77d",
   "metadata": {
    "scrolled": true
   },
   "outputs": [
    {
     "name": "stdout",
     "output_type": "stream",
     "text": [
      "Precision:  0.725705329153605 \n",
      "Recall:  0.5981912144702842\n"
     ]
    }
   ],
   "source": [
    "#métricas para el modelo estandarizado\n",
    "m1_prec_2 = precision_score(y_test_2, yhat_2) \n",
    "m1_rec_2 = recall_score(y_test_2, yhat_2) \n",
    "print(\"Precision: \", m1_prec_2, \"\\nRecall: \", m1_rec_2)"
   ]
  },
  {
   "cell_type": "markdown",
   "id": "3e128bfc",
   "metadata": {},
   "source": [
    "__Interpretación__\n",
    "\n",
    ">__Precisión:__ De todas las veces que el modelo __estandarizado__ dijo que el individuo ganaba más de 50 mil dólares, acertó el __72,57%__ de las veces\n",
    ">\n",
    "> __Recall:__ De todas las veces que el valor observado era un individuo con un salario mayor a 50 mil dólares, el modelo solo pudo acertar el __59,81%__ de las veces\n",
    ">\n",
    "> Podemos ver que el modelo con los datos estandarizados tiene mucho mejor rendimiento en este aspecto que el modelo no estandarizado en ambas métricas."
   ]
  },
  {
   "cell_type": "code",
   "execution_count": 54,
   "id": "b301852e",
   "metadata": {},
   "outputs": [
    {
     "name": "stdout",
     "output_type": "stream",
     "text": [
      "              precision    recall  f1-score   support\n",
      "\n",
      "           0       0.88      0.93      0.90     12248\n",
      "           1       0.73      0.60      0.66      3870\n",
      "\n",
      "    accuracy                           0.85     16118\n",
      "   macro avg       0.80      0.76      0.78     16118\n",
      "weighted avg       0.84      0.85      0.84     16118\n",
      "\n"
     ]
    }
   ],
   "source": [
    "print(classification_report(y_test_2, yhat_2))"
   ]
  },
  {
   "cell_type": "markdown",
   "id": "148745c1",
   "metadata": {},
   "source": [
    "Naturalmente al tener un dataset con mayor presencia de individuos que ganan por debajo del umbral, el modelo aprendió mejor a predecir cuando estos ganarán menos del umbral.\n"
   ]
  },
  {
   "cell_type": "code",
   "execution_count": 55,
   "id": "ac54ab21",
   "metadata": {
    "scrolled": false
   },
   "outputs": [
    {
     "data": {
      "image/png": "[encoded data removed]",
      "text/plain": [
       "<Figure size 576x396 with 1 Axes>"
      ]
     },
     "metadata": {},
     "output_type": "display_data"
    }
   ],
   "source": [
    "# reestimamos los valores predichos de nuestro modelo para obtener la probabilidad entre 0 y 1.\n",
    "yhat_p_2 = ml_std_model.predict_proba(X_test_2)[:, 1]\n",
    "# generamos los objetos de roc_cruve\n",
    "false_positive, true_positive, threshold = roc_curve(y_test_2, yhat_p_2)\n",
    "\n",
    "# Plot ROC curve\n",
    "plt.title('Curva ROC')\n",
    "plt.plot(false_positive, true_positive, lw=1)\n",
    "plt.plot([0, 1], ls=\"--\", lw=1)\n",
    "plt.plot([0, 0], [1, 0] , c='limegreen', lw=3), plt.plot([1, 1] ,\n",
    "c='limegreen', lw=3)\n",
    "plt.ylabel('Verdaderos Positivos')\n",
    "plt.xlabel('Falsos Positivos');"
   ]
  },
  {
   "cell_type": "markdown",
   "id": "fdaa0037",
   "metadata": {},
   "source": [
    "Se puede apreciar que la curva ROC muestra un mejor desempeño que la curva ROC con datos no estandarizados. También tenemos un área bajo la curva *AUC* Superior que en el modelo no estandarizado"
   ]
  },
  {
   "cell_type": "code",
   "execution_count": 56,
   "id": "bdd97402",
   "metadata": {},
   "outputs": [
    {
     "data": {
      "text/plain": [
       "0.9036835735033258"
      ]
     },
     "execution_count": 56,
     "metadata": {},
     "output_type": "execute_result"
    }
   ],
   "source": [
    "from sklearn.metrics import roc_auc_score\n",
    "roc_auc_score(y_test_2, yhat_p_2)"
   ]
  }
 ],
 "metadata": {
  "kernelspec": {
   "display_name": "Python 3 (ipykernel)",
   "language": "python",
   "name": "python3"
  },
  "language_info": {
   "codemirror_mode": {
    "name": "ipython",
    "version": 3
   },
   "file_extension": ".py",
   "mimetype": "text/x-python",
   "name": "python",
   "nbconvert_exporter": "python",
   "pygments_lexer": "ipython3",
   "version": "3.9.12"
  }
 },
 "nbformat": 4,
 "nbformat_minor": 5
}
